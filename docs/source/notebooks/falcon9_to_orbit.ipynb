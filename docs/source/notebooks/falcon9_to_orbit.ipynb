{
 "cells": [
  {
   "cell_type": "markdown",
   "metadata": {},
   "source": [
    "# **SpaceX Falcon9 Launch Trajectory (Booster Recovery)**\n",
    "(c) 2023 Devakumar Thammisetty\n",
    "\n",
    "MPOPT is an open-source Multi-phase Optimal Control Problem (OCP) solver based on pseudo-spectral collocation with customized adaptive grid refinement techniques.\n",
    "\n",
    "https://mpopt.readthedocs.io/\n",
    "\n",
    "Download this notebook: [falcon9_to_orbit.ipynb](https://github.com/mpopt/mpopt/blob/docs/docs/source/notebooks/falcon9_to_orbit.ipynb)"
   ]
  },
  {
   "cell_type": "markdown",
   "metadata": {},
   "source": [
    "Install mpopt from pypi using the following. Disable after first usage"
   ]
  },
  {
   "cell_type": "markdown",
   "metadata": {},
   "source": [
    "Import mpopt (Contains main solver modules)"
   ]
  },
  {
   "cell_type": "code",
   "execution_count": 1,
   "metadata": {},
   "outputs": [],
   "source": [
    "#!pip install mpopt\n",
    "from mpopt import mp\n",
    "import numpy as np\n",
    "import casadi as ca"
   ]
  },
  {
   "cell_type": "markdown",
   "metadata": {},
   "source": [
    "### Defining OCP\n",
    "\n",
    "OCP: (Multi stage launch vehicle OCP : Delta-III rocket)\n",
    "http://dx.doi.org/10.13140/RG.2.2.19519.79528\n",
    "\n",
    "   \\begin{aligned}\n",
    "&\\!\\min_{x, u}        & \\qquad & J = -x_6(t_f) + \\int_{t_0}^{t_f}0 dt\\\\\n",
    "&\\text{subject to} &      & \\\\\n",
    "&\\qquad \\text{Define}&      & \\mathbf{r} = [x_0, x_1, x_2]; \\ \\mathbf{v} = [x_3, x_4, x_5]; \\ m = x_6; \\ \\mathbf{u} = [u_0, u_1, u_2];\\\\\n",
    "&&      & \\mu=3.986012e14;\\ \\omega_e = [0, 0, 7.29211585e-5]^T;\\ R_e = 6378145;\\\\\n",
    "&&      & \\rho_0=1.225;\\ H_0=7200;\\ C_d=0.5;\\ A^{\\text{ref}}=4\\pi;\\\\\n",
    "&&      & T^0=4854100;\\ T^1=2968600;\\ T^2=1083100; T^3=110094;\\\\\n",
    "&&      & \\dot{m}^0=1723.273;\\ \\dot{m}^1=1044.682;\\ \\dot{m}^2=366.092;\\ \\dot{m}^3=24.029;\\\\\n",
    "&\\quad \\textit{Dynamics:} &      & \\dot{\\mathbf{r}} =  \\mathbf{v}\\\\\n",
    "&                  &      & \\dot{\\mathbf{v}} =  -\\dfrac{\\mu}{|{\\mathbf{r}|}^3}\\mathbf{r} + \\dfrac{T^p}{m}\\mathbf{u} - \\dfrac{C_dA^{\\text{ref}}\\rho_0|{\\mathbf{v}-(\\omega_e\\times \\mathbf{r})}|(\\mathbf{v}-(\\omega_e\\times \\mathbf{r}))e^{\\frac{|{\\mathbf{r}}|-R_e}{H_0}}}{2m}\\\\\n",
    "& &      & \\dot{m} = -\\dot{m}^p \\qquad \\qquad p = 0, 1, 2, 3\\\\\n",
    "& \\quad \\textit{Path constraints: } &      & |{\\mathbf{u}}| = 1 \\\\\n",
    "&                  &      & |{\\mathbf{r}}| \\geq R_e \\\\\n",
    "& \\quad \\textit{Terminal constraints: } & & t_0^0 =0;\\ t_0^1 = 75.2;\\ t_0^2=150.4;\\ t_0^3 = 261   \\\\\n",
    "&                  & & t_f^0 =75.2;\\ t_f^1 = 150.4;\\ t_f^2=261 \\\\\n",
    "&&      & \\text{Let}\\ \\mathbf{r_f} = [x_0(t_f^3), x_1(t_f^3), x_2(t_f^3)]; \\ \\mathbf{v_f} = [x_3(t_f^3), x_4(t_f^3), x_5(t_f^3)];\\\\\n",
    "&                  & & a_f(\\mathbf{r_f}, \\mathbf{v_f}) = 24361140; e_f(\\mathbf{r_f}, \\mathbf{v_f}) = 0.7308; \\\\\n",
    "&                  & & i_f(\\mathbf{r_f}, \\mathbf{v_f}) = \\frac{28.5\\pi}{180}; \\Omega_f(\\mathbf{r_f}, \\mathbf{v_f}) = \\frac{269.8\\pi}{180}; \\\\\n",
    "&                  & & \\omega_f(\\mathbf{r_f}, \\mathbf{v_f}) = \\frac{130.5\\pi}{180};  \\\\\n",
    "&                  & & \\text{Where}\\ a_f, e_f, i_f, \\Omega_f, \\omega_f\\ \\text{are computed as follows}\\\\\n",
    "&                  & & \\mathbf{h} = \\mathbf{r_f}\\times \\mathbf{v_f};\\ \\mathbf{n} = [0, 0, 1]^T\\times \\mathbf{v_f};\\\\\n",
    "&                  & & \\mathbf{e} = \\frac{1}{\\mu}\\mathbf{v_f}\\times \\mathbf{h} - \\dfrac{\\mathbf{r_f}}{|{\\mathbf{r_f}}|};\\\\\n",
    "&                  & &e_f = |{\\mathbf{e}}|;\\ a_f = -\\dfrac{\\mu}{|{\\mathbf{v_f}}|^2-\\frac{2\\mu}{|{\\mathbf{r_f}}|}};\\ i_f = \\cos^{-1}\\left(\\dfrac{\\mathbf{h}.[0, 0, 1]^T}{|{\\mathbf{h}}|}\\right);\\\\\n",
    "&                  & & \\text{if }\\mathbf{n}[1]\\text{>0:}\\ \\Omega_f = \\cos^{-1}\\left(\\dfrac{\\mathbf{n}.[0, 0, 1]^T}{|{\\mathbf{n}}|}\\right)\\ \\text{else:}\\ \\Omega_f = (2\\pi - \\Omega_f);\\\\\n",
    "&                  & & \\text{if e[2]>0:}\\ \\omega_f = \\cos^{-1}\\left(\\dfrac{\\mathbf{n}.\\mathbf{e}}{|{\\mathbf{n}}|e_f}\\right)\\ \\text{else:}\\ \\omega_f = (2\\pi - \\omega_f);\\\\\n",
    "& \\quad \\textit{Event constraints: } &      &  \\mathbf{r}(t_f^p) - \\mathbf{r}(t_0^{p+1}) = 0; \\ \\mathbf{v}(t_f^{p}) - \\mathbf{v}(t_0^{p+1}) = 0; \\quad p = 0, 1, 2\\\\\n",
    "&  &      & m(t_f^p) - m(t_0^{p+1}) = [13680, 6840, 8830]\\quad p = 0, 1, 2\\\\\n",
    "& \\quad \\textit{Initial conditions: } &      &  \\mathbf{r}(t_0^0) = [5605222.973, 0, 3043387.761]; \\mathbf{v}(t_0^{0}) = [0, 408.74, 0];\\\\\n",
    "&  &      & m(t_0^0) = 301454\n",
    "  \\end{aligned}\n",
    "\n",
    "\n",
    "We first create an OCP object and then polulate the object with dynamics, path_constraints, terminal_constraints and objective (running_costs, terminal_costs)"
   ]
  },
  {
   "cell_type": "code",
   "execution_count": 2,
   "metadata": {},
   "outputs": [],
   "source": [
    "ocp = mp.OCP(n_states=7, n_controls=4, n_phases=3)"
   ]
  },
  {
   "cell_type": "code",
   "execution_count": 3,
   "metadata": {},
   "outputs": [],
   "source": [
    "# Initialize parameters\n",
    "Re = 6378145.0  # m\n",
    "omegaE = 7.29211585e-5\n",
    "rho0 = 1.225\n",
    "rhoH = 7200.0\n",
    "Sa = 4 * np.pi\n",
    "Cd = 0.5\n",
    "muE = 3.986012e14\n",
    "g0 = 9.80665\n",
    "\n",
    "# Variable initialization\n",
    "lat0 = 28.5 * np.pi / 180.0\n",
    "r0 = np.array([Re * np.cos(lat0), 0.0, Re * np.sin(lat0)])\n",
    "# v0     = omegaE*np.array([-r0[1], r0[0], 0.0])\n",
    "v0 = omegaE * np.array([0.1, 0.1, 0.1])\n",
    "m0 = 431.6e3 + 107.5e3\n",
    "mf = 107.5e3 - 103.5e3\n",
    "mdryBooster = 431.6e3 - 409.5e3\n",
    "mdrySecond = mf\n",
    "x0 = np.array([r0[0], r0[1], r0[2], v0[0], v0[1], v0[2], m0])\n",
    "q_max = 80 * 1e3"
   ]
  },
  {
   "cell_type": "code",
   "execution_count": 4,
   "metadata": {},
   "outputs": [],
   "source": [
    "# Step-1 : Define dynamics\n",
    "# Thrust(N) and mass flow rate(kg/s) in each stage\n",
    "Thrust = [9 * 934.0e3, 934.0e3, 934.0e3]\n",
    "\n",
    "\n",
    "def stage_dynamics(x, u, t, param=0, T=0.0):\n",
    "    r = x[:3]\n",
    "    v = x[3:6]\n",
    "    m = x[6]\n",
    "    r_mag = ca.sqrt(r[0] * r[0] + r[1] * r[1] + r[2] * r[2])\n",
    "    v_rel = v  # ca.vertcat(v[0] + r[1] * omegaE, v[1] - r[0] * omegaE, v[2])\n",
    "    v_rel_mag = ca.sqrt(v_rel[0] * v_rel[0] + v_rel[1] * v_rel[1] + v_rel[2] * v_rel[2])\n",
    "    h = r_mag - Re\n",
    "    rho = rho0 * ca.exp(-h / rhoH)\n",
    "    D = -rho / (2 * m) * Sa * Cd * v_rel_mag * v_rel\n",
    "    g = -muE / (r_mag * r_mag * r_mag) * r\n",
    "\n",
    "    xdot = [\n",
    "        x[3],\n",
    "        x[4],\n",
    "        x[5],\n",
    "        T * u[3] / m * u[0] + param * D[0] + g[0],\n",
    "        T * u[3] / m * u[1] + param * D[1] + g[1],\n",
    "        T * u[3] / m * u[2] + param * D[2] + g[2],\n",
    "        -T * u[3] / (340.0 * g0),\n",
    "    ]\n",
    "    return xdot\n",
    "\n",
    "\n",
    "def get_dynamics(param):\n",
    "    dynamics0 = lambda x, u, t: stage_dynamics(x, u, t, param=param, T=Thrust[0])\n",
    "    dynamics1 = lambda x, u, t: stage_dynamics(x, u, t, param=param, T=Thrust[1])\n",
    "    dynamics2 = lambda x, u, t: stage_dynamics(x, u, t, param=param, T=Thrust[2])\n",
    "\n",
    "    return [dynamics0, dynamics1, dynamics2]\n",
    "\n",
    "\n",
    "ocp.dynamics = get_dynamics(0)"
   ]
  },
  {
   "cell_type": "code",
   "execution_count": 5,
   "metadata": {},
   "outputs": [],
   "source": [
    "# Step-2: Add path constraints\n",
    "def path_constraints0(x, u, t):\n",
    "    return [\n",
    "        u[0] * u[0] + u[1] * u[1] + u[2] * u[2] - 1,\n",
    "        -u[0] * u[0] - u[1] * u[1] - u[2] * u[2] + 1,\n",
    "        -ca.sqrt(x[0] * x[0] + x[1] * x[1] + x[2] * x[2]) / Re + 1,\n",
    "    ]\n",
    "\n",
    "\n",
    "def path_constraints2(x, u, t, dynP=0, gs=0):\n",
    "    r_mag = ca.sqrt(x[0] * x[0] + x[1] * x[1] + x[2] * x[2])\n",
    "    h = r_mag - Re\n",
    "    rho = rho0 * ca.exp(-h / rhoH)\n",
    "    v_sq = x[3] * x[3] + x[4] * x[4] + x[5] * x[5]\n",
    "    r_rf = ca.vertcat(x[0] - x0[0], x[1] - x0[1], x[2] - x0[2])\n",
    "    r_rf_mag = ca.sqrt(r_rf[0] * r_rf[0] + r_rf[1] * r_rf[1] + r_rf[2] * r_rf[2])\n",
    "    rf_mag = np.sqrt(x0[0] * x0[0] + x0[1] * x0[1] + x0[2] * x0[2])\n",
    "    glide_slope_factor = np.cos(80.0 * np.pi / 180.0)\n",
    "\n",
    "    return [\n",
    "        dynP * 0.5 * rho * v_sq / q_max - 1.0,\n",
    "        u[0] * u[0] + u[1] * u[1] + u[2] * u[2] - 1,\n",
    "        -u[0] * u[0] - u[1] * u[1] - u[2] * u[2] + 1,\n",
    "        -ca.sqrt(x[0] * x[0] + x[1] * x[1] + x[2] * x[2]) / Re + 1,\n",
    "        gs\n",
    "        * (\n",
    "            r_rf_mag * glide_slope_factor\n",
    "            - (r_rf[0] * x0[0] + r_rf[1] * x0[1] + r_rf[2] * x0[2]) / rf_mag\n",
    "        ),\n",
    "    ]\n",
    "\n",
    "\n",
    "ocp.path_constraints = [path_constraints0, path_constraints0, path_constraints2]"
   ]
  },
  {
   "cell_type": "code",
   "execution_count": 6,
   "metadata": {},
   "outputs": [],
   "source": [
    "# Step-3: Add terminal cost and constraints\n",
    "def terminal_cost1(xf, tf, x0, t0):\n",
    "    return -xf[6] / m0\n",
    "\n",
    "\n",
    "ocp.terminal_costs[1] = terminal_cost1\n",
    "\n",
    "\n",
    "def terminal_constraints1(x, t, x0, t0):\n",
    "    h = ca.vertcat(\n",
    "        x[1] * x[5] - x[4] * x[2], x[3] * x[2] - x[0] * x[5], x[0] * x[4] - x[1] * x[3]\n",
    "    )\n",
    "\n",
    "    n = ca.vertcat(-h[1], h[0], 0)\n",
    "    r = ca.sqrt(x[0] * x[0] + x[1] * x[1] + x[2] * x[2])\n",
    "\n",
    "    e = ca.vertcat(\n",
    "        1 / muE * (x[4] * h[2] - x[5] * h[1]) - x[0] / r,\n",
    "        1 / muE * (x[5] * h[0] - x[3] * h[2]) - x[1] / r,\n",
    "        1 / muE * (x[3] * h[1] - x[4] * h[0]) - x[2] / r,\n",
    "    )\n",
    "\n",
    "    e_mag = ca.sqrt(e[0] * e[0] + e[1] * e[1] + e[2] * e[2])\n",
    "    h_sq = h[0] * h[0] + h[1] * h[1] + h[2] * h[2]\n",
    "    v_mag = ca.sqrt(x[3] * x[3] + x[4] * x[4] + x[5] * x[5])\n",
    "\n",
    "    a = -muE / (v_mag * v_mag - 2.0 * muE / r)\n",
    "    i = ca.acos(h[2] / ca.sqrt(h_sq))\n",
    "    n_mag = ca.sqrt(n[0] * n[0] + n[1] * n[1])\n",
    "\n",
    "    node_asc = ca.acos(n[0] / n_mag)\n",
    "    # if n[1] < -1e-12:\n",
    "    node_asc = 2 * np.pi - node_asc\n",
    "\n",
    "    argP = ca.acos((n[0] * e[0] + n[1] * e[1]) / (n_mag * e_mag))\n",
    "    # if e[2] < 0:\n",
    "    #    argP = 2*np.pi - argP\n",
    "\n",
    "    a_req = 6593145.0  # 24361140.0\n",
    "    e_req = 0.0076\n",
    "    i_req = 28.5 * np.pi / 180.0\n",
    "    node_asc_req = 269.8 * np.pi / 180.0\n",
    "    argP_req = 130.5 * np.pi / 180.0\n",
    "\n",
    "    return [\n",
    "        (a - a_req) / (Re),\n",
    "        e_mag - e_req,\n",
    "        i - i_req,\n",
    "        node_asc - node_asc_req,\n",
    "        argP - argP_req,\n",
    "    ]\n",
    "\n",
    "\n",
    "def terminal_constraints2(x, t, x_0, t_0):\n",
    "    return [\n",
    "        (x[0] - x0[0]) / Re,\n",
    "        (x[1] - x0[1]) / Re,\n",
    "        (x[2] - x0[2]) / Re,\n",
    "        (x[3] - x0[3]) / np.sqrt(muE / Re),\n",
    "        (x[4] - x0[4]) / np.sqrt(muE / Re),\n",
    "        (x[5] - x0[5]) / np.sqrt(muE / Re),\n",
    "    ]\n",
    "\n",
    "\n",
    "ocp.terminal_constraints[1] = terminal_constraints1\n",
    "ocp.terminal_constraints[2] = terminal_constraints2"
   ]
  },
  {
   "cell_type": "markdown",
   "metadata": {},
   "source": [
    "Scale the variables"
   ]
  },
  {
   "cell_type": "code",
   "execution_count": 7,
   "metadata": {},
   "outputs": [],
   "source": [
    "ocp.scale_x = np.array(\n",
    "    [\n",
    "        1 / Re,\n",
    "        1 / Re,\n",
    "        1 / Re,\n",
    "        1 / np.sqrt(muE / Re),\n",
    "        1 / np.sqrt(muE / Re),\n",
    "        1 / np.sqrt(muE / Re),\n",
    "        1 / m0,\n",
    "    ]\n",
    ")\n",
    "ocp.scale_t = np.sqrt(muE / Re) / Re"
   ]
  },
  {
   "cell_type": "markdown",
   "metadata": {},
   "source": [
    "Initial state and Final guess"
   ]
  },
  {
   "cell_type": "code",
   "execution_count": 8,
   "metadata": {},
   "outputs": [],
   "source": [
    "# Initial guess estimation\n",
    "# User defined functions\n",
    "def ae_to_rv(a, e, i, node, argP, th):\n",
    "    p = a * (1.0 - e * e)\n",
    "    r = p / (1.0 + e * np.cos(th))\n",
    "\n",
    "    r_vec = np.array([r * np.cos(th), r * np.sin(th), 0.0])\n",
    "    v_vec = np.sqrt(muE / p) * np.array([-np.sin(th), e + np.cos(th), 0.0])\n",
    "\n",
    "    cn, sn = np.cos(node), np.sin(node)\n",
    "    cp, sp = np.cos(argP), np.sin(argP)\n",
    "    ci, si = np.cos(i), np.sin(i)\n",
    "\n",
    "    R = np.array(\n",
    "        [\n",
    "            [cn * cp - sn * sp * ci, -cn * sp - sn * cp * ci, sn * si],\n",
    "            [sn * cp + cn * sp * ci, -sn * sp + cn * cp * ci, -cn * si],\n",
    "            [sp * si, cp * si, ci],\n",
    "        ]\n",
    "    )\n",
    "\n",
    "    r_i = np.dot(R, r_vec)\n",
    "    v_i = np.dot(R, v_vec)\n",
    "\n",
    "    return r_i, v_i\n",
    "\n",
    "\n",
    "# Target conditions\n",
    "a_req = 6593145.0  # 24361140.0\n",
    "e_req = 0.0076\n",
    "i_req = 28.5 * np.pi / 180.0\n",
    "node_asc_req = 269.8 * np.pi / 180.0\n",
    "argP_req = 130.5 * np.pi / 180.0\n",
    "th = 0.0\n",
    "rf, vf = ae_to_rv(a_req, e_req, i_req, node_asc_req, argP_req, th)\n",
    "xf = np.array([rf[0], rf[1], rf[2], vf[0], vf[1], vf[2], mf])"
   ]
  },
  {
   "cell_type": "markdown",
   "metadata": {},
   "source": [
    "Intial guess"
   ]
  },
  {
   "cell_type": "code",
   "execution_count": 9,
   "metadata": {},
   "outputs": [],
   "source": [
    "# Timings\n",
    "# Timings\n",
    "t0, t1, t2, t3 = 0.0, 131.4, 453.4, 569.7\n",
    "\n",
    "# Interpolate to get starting values for intermediate phases\n",
    "x1 = x0 + (xf - x0) / (t2 - t0) * (t1 - t0)\n",
    "\n",
    "# Update the state discontinuity values across phases\n",
    "x0f = np.copy(x1)\n",
    "x0f[-1] = x0[-1] - (9 * 934e3 / (340.0 * g0) * t1)\n",
    "mFirst_leftout = 409.5e3 - (9 * 934e3 / (340.0 * g0) * t1)\n",
    "x1[-1] = x0f[-1] - (mdryBooster + mFirst_leftout)\n",
    "\n",
    "# Step-8b: Initial guess for the states, controls and phase start and final\n",
    "#             times\n",
    "ocp.x00 = np.array([x0, x1, x0f])\n",
    "ocp.xf0 = np.array([x0f, xf, x0])\n",
    "ocp.u00 = np.array([[1, 0, 0, 1.0], [1, 0, 0, 1], [0, 1, 0, 1]])\n",
    "ocp.uf0 = np.array([[0, 1, 0, 1.0], [0, 1, 0, 1], [1, 0, 0, 0.5]])\n",
    "ocp.t00 = np.array([[t0], [t1], [t1]])\n",
    "ocp.tf0 = np.array([[t1], [t2], [t3]])"
   ]
  },
  {
   "cell_type": "markdown",
   "metadata": {},
   "source": [
    "Box constraints"
   ]
  },
  {
   "cell_type": "code",
   "execution_count": 10,
   "metadata": {},
   "outputs": [],
   "source": [
    "# Step-8c: Bounds for states\n",
    "rmin, rmax = -2 * Re, 2 * Re\n",
    "vmin, vmax = -10000.0, 10000.0\n",
    "\n",
    "lbx0 = [rmin, rmin, rmin, vmin, vmin, vmin, x0f[-1]]\n",
    "lbx1 = [rmin, rmin, rmin, vmin, vmin, vmin, xf[-1]]\n",
    "lbx2 = [rmin, rmin, rmin, vmin, vmin, vmin, mdryBooster]\n",
    "ubx0 = [rmax, rmax, rmax, vmax, vmax, vmax, x0[-1]]\n",
    "ubx1 = [rmax, rmax, rmax, vmax, vmax, vmax, 107.5e3]\n",
    "ubx2 = [rmax, rmax, rmax, vmax, vmax, vmax, x0f[-1] - 107.5e3]\n",
    "\n",
    "ocp.lbx = np.array([lbx0, lbx1, lbx2])\n",
    "ocp.ubx = np.array([ubx0, ubx1, ubx2])\n",
    "\n",
    "# Bounds for control inputs\n",
    "ocp.lbu = np.array(\n",
    "    [[-1.0, -1.0, -1.0, 1.0], [-1.0, -1.0, -1.0, 1.0], [-1.0, -1.0, -1.0, 0.38]]\n",
    ")\n",
    "ocp.ubu = np.array([[1.0, 1.0, 1.0, 1.0], [1.0, 1.0, 1.0, 1.0], [1.0, 1.0, 1.0, 1.0]])\n",
    "\n",
    "# Bounds for phase start and final times\n",
    "ocp.lbt0 = np.array([[t0], [t1], [t1]])\n",
    "ocp.ubt0 = np.array([[t0], [t1], [t1]])\n",
    "ocp.lbtf = np.array([[t1], [t2 - 50], [t3 - 100]])\n",
    "ocp.ubtf = np.array([[t1], [t2 + 50], [t3 + 100]])\n",
    "\n",
    "# Event constraint bounds on states : State continuity/disc.\n",
    "lbe0 = [0.0, 0.0, 0.0, 0.0, 0.0, 0.0, -(mdryBooster + mFirst_leftout)]\n",
    "lbe1 = [0.0, 0.0, 0.0, 0.0, 0.0, 0.0, -107.5e3]\n",
    "ocp.lbe = np.array([lbe0, lbe1])\n",
    "ocp.ube = np.array([lbe0, lbe1])\n",
    "\n",
    "ocp.phase_links = [(0, 1), (0, 2)]"
   ]
  },
  {
   "cell_type": "code",
   "execution_count": 11,
   "metadata": {},
   "outputs": [],
   "source": [
    "ocp.validate()"
   ]
  },
  {
   "cell_type": "markdown",
   "metadata": {},
   "source": [
    "### Solve with atmospheric drag disabled "
   ]
  },
  {
   "cell_type": "code",
   "execution_count": 12,
   "metadata": {},
   "outputs": [
    {
     "name": "stdout",
     "output_type": "stream",
     "text": [
      "\n",
      "******************************************************************************\n",
      "This program contains Ipopt, a library for large-scale nonlinear optimization.\n",
      " Ipopt is released as open source code under the Eclipse Public License (EPL).\n",
      "         For more information visit http://projects.coin-or.org/Ipopt\n",
      "******************************************************************************\n",
      "\n",
      "Total number of variables............................:      956\n",
      "                     variables with only lower bounds:        0\n",
      "                variables with lower and upper bounds:      956\n",
      "                     variables with only upper bounds:        0\n",
      "Total number of equality constraints.................:      746\n",
      "Total number of inequality constraints...............:      641\n",
      "        inequality constraints with only lower bounds:        0\n",
      "   inequality constraints with lower and upper bounds:      300\n",
      "        inequality constraints with only upper bounds:      341\n",
      "\n",
      "\n",
      "Number of Iterations....: 153\n",
      "\n",
      "                                   (scaled)                 (unscaled)\n",
      "Objective...............:  -2.9204480860707361e-02   -2.9204480860707361e-02\n",
      "Dual infeasibility......:   1.9040474700928261e-07    1.9040474700928261e-07\n",
      "Constraint violation....:   6.7175836255209499e-06    6.7175836255209499e-06\n",
      "Complementarity.........:   2.5059035596800655e-09    2.5059035596800655e-09\n",
      "Overall NLP error.......:   6.7175836255209499e-06    6.7175836255209499e-06\n",
      "\n",
      "\n",
      "Number of objective function evaluations             = 203\n",
      "Number of objective gradient evaluations             = 154\n",
      "Number of equality constraint evaluations            = 203\n",
      "Number of inequality constraint evaluations          = 203\n",
      "Number of equality constraint Jacobian evaluations   = 154\n",
      "Number of inequality constraint Jacobian evaluations = 154\n",
      "Number of Lagrangian Hessian evaluations             = 153\n",
      "Total CPU secs in IPOPT (w/o function evaluations)   =      2.930\n",
      "Total CPU secs in NLP function evaluations           =      0.117\n",
      "\n",
      "EXIT: Solved To Acceptable Level.\n",
      "      solver  :   t_proc      (avg)   t_wall      (avg)    n_eval\n",
      "       nlp_f  | 744.00us (  3.67us) 720.91us (  3.55us)       203\n",
      "       nlp_g  |  28.51ms (140.46us)  28.24ms (139.09us)       203\n",
      "    nlp_grad  | 384.00us (384.00us) 383.90us (383.90us)         1\n",
      "  nlp_grad_f  |   1.51ms (  9.72us)   1.41ms (  9.13us)       155\n",
      "  nlp_hess_l  |  34.36ms (224.61us)  34.18ms (223.38us)       153\n",
      "   nlp_jac_g  |  41.84ms (269.92us)  41.74ms (269.30us)       155\n",
      "       total  |   3.07 s (  3.07 s)   3.06 s (  3.06 s)         1\n"
     ]
    }
   ],
   "source": [
    "ocp.dynamics = get_dynamics(0)\n",
    "mpo = mp.mpopt(ocp, 5, 6)\n",
    "sol = mpo.solve()"
   ]
  },
  {
   "cell_type": "markdown",
   "metadata": {},
   "source": [
    "Solve the problem with drag enabled now with revised initial guess"
   ]
  },
  {
   "cell_type": "code",
   "execution_count": 13,
   "metadata": {},
   "outputs": [
    {
     "name": "stdout",
     "output_type": "stream",
     "text": [
      "Total number of variables............................:      956\n",
      "                     variables with only lower bounds:        0\n",
      "                variables with lower and upper bounds:      956\n",
      "                     variables with only upper bounds:        0\n",
      "Total number of equality constraints.................:      746\n",
      "Total number of inequality constraints...............:      641\n",
      "        inequality constraints with only lower bounds:        0\n",
      "   inequality constraints with lower and upper bounds:      300\n",
      "        inequality constraints with only upper bounds:      341\n",
      "\n",
      "\n",
      "Number of Iterations....: 61\n",
      "\n",
      "                                   (scaled)                 (unscaled)\n",
      "Objective...............:  -3.1423421485119993e-02   -3.1423421485119993e-02\n",
      "Dual infeasibility......:   6.7634340985309009e-12    6.7634340985309009e-12\n",
      "Constraint violation....:   1.9999893324795792e-08    1.9999893324795792e-08\n",
      "Complementarity.........:   9.1006695117999755e-10    9.1006695117999755e-10\n",
      "Overall NLP error.......:   1.9999893324795792e-08    1.9999893324795792e-08\n",
      "\n",
      "\n",
      "Number of objective function evaluations             = 172\n",
      "Number of objective gradient evaluations             = 63\n",
      "Number of equality constraint evaluations            = 172\n",
      "Number of inequality constraint evaluations          = 172\n",
      "Number of equality constraint Jacobian evaluations   = 63\n",
      "Number of inequality constraint Jacobian evaluations = 63\n",
      "Number of Lagrangian Hessian evaluations             = 62\n",
      "Total CPU secs in IPOPT (w/o function evaluations)   =      1.441\n",
      "Total CPU secs in NLP function evaluations           =      0.079\n",
      "\n",
      "EXIT: Solved To Acceptable Level.\n",
      "      solver  :   t_proc      (avg)   t_wall      (avg)    n_eval\n",
      "       nlp_f  | 539.00us (  3.13us) 523.99us (  3.05us)       172\n",
      "       nlp_g  |  25.06ms (145.73us)  24.79ms (144.13us)       172\n",
      "    nlp_grad  | 305.00us (305.00us) 303.70us (303.70us)         1\n",
      "  nlp_grad_f  | 579.00us (  9.05us) 660.80us ( 10.33us)        64\n",
      "  nlp_hess_l  |  25.98ms (419.10us)  25.94ms (418.32us)        62\n",
      "   nlp_jac_g  |  23.84ms (372.56us)  23.79ms (371.73us)        64\n",
      "       total  |   1.55 s (  1.55 s)   1.54 s (  1.54 s)         1\n"
     ]
    }
   ],
   "source": [
    "ocp.dynamics = get_dynamics(1)\n",
    "ocp.path_constraints[2] = lambda x, u, t: path_constraints2(x, u, t, dynP=1, gs=0)\n",
    "ocp.validate()\n",
    "\n",
    "mpo._ocp = ocp\n",
    "sol = mpo.solve(\n",
    "    sol, reinitialize_nlp=True, nlp_solver_options={\"ipopt.acceptable_tol\": 1e-6}\n",
    ")"
   ]
  },
  {
   "cell_type": "markdown",
   "metadata": {},
   "source": [
    "Retrive data from the solution"
   ]
  },
  {
   "cell_type": "code",
   "execution_count": 14,
   "metadata": {},
   "outputs": [
    {
     "name": "stdout",
     "output_type": "stream",
     "text": [
      "Payload:\n",
      "Mass to orbit :  16940.3665 kg(MPOPT) vs 17310kg(Beigler paper)\n",
      "Time to orbit (SECO) :  454.6864 s(MPOPT) vs 453.4s(Beigler paper)\n",
      "\n",
      "Booster:\n",
      " Mass at landing :  22100.0 kg(MPOPT) vs 22100kg(Beigler paper)\n",
      "Time of landing :  579.5091 s(MPOPT) vs 569.7s(Beigler paper)\n"
     ]
    }
   ],
   "source": [
    "post = mpo.process_results(sol, plot=False, scaling=False)\n",
    "mp.post_process._INTERPOLATION_NODES_PER_SEG = 200\n",
    "x, u, t, _ = post.get_data(phases=ocp.phase_links[0], interpolate=False)\n",
    "print(\"Payload:\\nMass to orbit : \", round(x[-1][-1], 4), \"kg(MPOPT) vs 17310kg(Beigler paper)\")\n",
    "print(\"Time to orbit (SECO) : \", round(t[-1][0], 4), \"s(MPOPT) vs 453.4s(Beigler paper)\")\n",
    "x, u, t, _ = post.get_data(phases=ocp.phase_links[1], interpolate=False)\n",
    "print(\"\\nBooster:\\n Mass at landing : \", round(x[-1][-1], 4), \"kg(MPOPT) vs 22100kg(Beigler paper)\")\n",
    "print(\"Time of landing : \", round(t[-1][0], 4), \"s(MPOPT) vs 569.7s(Beigler paper)\")"
   ]
  },
  {
   "cell_type": "markdown",
   "metadata": {},
   "source": [
    "### Plot results"
   ]
  },
  {
   "cell_type": "markdown",
   "metadata": {},
   "source": [
    "Plot trajectory of launch to orbit (Second stage) and Booster return to Ship."
   ]
  },
  {
   "cell_type": "code",
   "execution_count": 15,
   "metadata": {},
   "outputs": [
    {
     "data": {
      "text/plain": [
       "[Text(0, 0.5, 'Velocity, km/s')]"
      ]
     },
     "execution_count": 15,
     "metadata": {},
     "output_type": "execute_result"
    },
    {
     "data": {
      "image/png": "[encoded data removed]",
      "text/plain": [
       "<Figure size 864x576 with 2 Axes>"
      ]
     },
     "metadata": {
      "needs_background": "light"
     },
     "output_type": "display_data"
    }
   ],
   "source": [
    "mp.plt.rcParams[\"figure.figsize\"] = (12,8)\n",
    "x0, u0, t0, _ = post.get_data(phases=ocp.phase_links[0], interpolate=True)\n",
    "x1, u1, t1, _ = post.get_data(phases=ocp.phase_links[1], interpolate=True)\n",
    "x0o, u0o, t0o, _ = post.get_data(phases=ocp.phase_links[0], interpolate=False)\n",
    "x1o, u1o, t1o, _ = post.get_data(phases=ocp.phase_links[1], interpolate=False)\n",
    "\n",
    "r0 = 1e-3 * (np.sqrt(x0[:, 0] ** 2 + x0[:, 1] ** 2 + x0[:, 2] ** 2) - Re)\n",
    "v0 = 1e-3 * np.sqrt(x0[:, 3] ** 2 + x0[:, 4] ** 2 + x0[:, 5] ** 2)\n",
    "y0 = np.column_stack((r0, v0))\n",
    "fig0, axs0 = post.plot_single_variable(y0, t0, [[0], [1]], axis=0)\n",
    "\n",
    "r0o = 1e-3 * (np.sqrt(x0o[:, 0] ** 2 + x0o[:, 1] ** 2 + x0o[:, 2] ** 2) - Re)\n",
    "v0o = 1e-3 * np.sqrt(x0o[:, 3] ** 2 + x0o[:, 4] ** 2 + x0o[:, 5] ** 2)\n",
    "y0o = np.column_stack((r0o, v0o))\n",
    "fig0o, axs0o = post.plot_single_variable(\n",
    "    y0o,\n",
    "    t0o,\n",
    "    [[0], [1]],\n",
    "    axis=0,\n",
    "    fig=fig0,\n",
    "    axs=axs0,\n",
    "    tics=[\".\"] * 15,\n",
    "    name=\"Second stage\",\n",
    ")\n",
    "\n",
    "r1 = 1e-3 * (np.sqrt(x1[:, 0] ** 2 + x1[:, 1] ** 2 + x1[:, 2] ** 2) - Re)\n",
    "v1 = 1e-3 * np.sqrt(x1[:, 3] ** 2 + x1[:, 4] ** 2 + x1[:, 5] ** 2)\n",
    "y1 = np.column_stack((r1, v1))\n",
    "fig1, axs1 = post.plot_single_variable(y1, t1, [[0], [1]], axis=0, fig=fig0o, axs=axs0o)\n",
    "\n",
    "r1o = 1e-3 * (np.sqrt(x1o[:, 0] ** 2 + x1o[:, 1] ** 2 + x1o[:, 2] ** 2) - Re)\n",
    "v1o = 1e-3 * np.sqrt(x1o[:, 3] ** 2 + x1o[:, 4] ** 2 + x1o[:, 5] ** 2)\n",
    "y1o = np.column_stack((r1o, v1o))\n",
    "fig1o, axs1o = post.plot_single_variable(\n",
    "    y1o,\n",
    "    t1o,\n",
    "    [[0], [1]],\n",
    "    axis=0,\n",
    "    fig=fig1,\n",
    "    axs=axs1,\n",
    "    tics=[\"+\"] * 15,\n",
    "    name=\"Booster stage\",\n",
    ")\n",
    "\n",
    "axs1o[0].set(ylabel=\"Altitude, km\")\n",
    "axs1o[1].set(ylabel=\"Velocity, km/s\")"
   ]
  }
 ],
 "metadata": {
  "kernelspec": {
   "display_name": "Python 3",
   "language": "python",
   "name": "python3"
  },
  "language_info": {
   "codemirror_mode": {
    "name": "ipython",
    "version": 3
   },
   "file_extension": ".py",
   "mimetype": "text/x-python",
   "name": "python",
   "nbconvert_exporter": "python",
   "pygments_lexer": "ipython3",
   "version": "3.8.5"
  }
 },
 "nbformat": 4,
 "nbformat_minor": 4
}
