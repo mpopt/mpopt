{
 "cells": [
  {
   "cell_type": "markdown",
   "metadata": {},
   "source": [
    "# **Multi-stage Launch Vehicle (Delta III) Ascent to Orbit**\n",
    "(c) 2023 Devakumar Thammisetty\n",
    "\n",
    "MPOPT is an open-source Multi-phase Optimal Control Problem (OCP) solver based on pseudo-spectral collocation with customized adaptive grid refinement techniques.\n",
    "\n",
    "https://mpopt.readthedocs.io/\n",
    "\n",
    "Download this notebook: [multi_stage_launch_vehicle_ascent.ipynb](https://github.com/mpopt/mpopt/blob/docs/docs/source/notebooks/multi_stage_launch_vehicle_ascent.ipynb)"
   ]
  },
  {
   "cell_type": "markdown",
   "metadata": {},
   "source": [
    "Install mpopt from pypi using the following. Disable after first usage"
   ]
  },
  {
   "cell_type": "markdown",
   "metadata": {},
   "source": [
    "Import mpopt (Contains main solver modules)"
   ]
  },
  {
   "cell_type": "code",
   "execution_count": 1,
   "metadata": {},
   "outputs": [],
   "source": [
    "#!pip install mpopt\n",
    "from mpopt import mp\n",
    "import numpy as np\n",
    "import casadi as ca"
   ]
  },
  {
   "cell_type": "markdown",
   "metadata": {},
   "source": [
    "### Defining OCP\n",
    "\n",
    "OCP:\n",
    "http://dx.doi.org/10.13140/RG.2.2.19519.79528\n",
    "\n",
    "   \\begin{aligned}\n",
    "&\\!\\min_{x, u}        & \\qquad & J = -x_6(t_f) + \\int_{t_0}^{t_f}0 dt\\\\\n",
    "&\\text{subject to} &      & \\\\\n",
    "&\\qquad \\text{Define}&      & \\mathbf{r} = [x_0, x_1, x_2]; \\ \\mathbf{v} = [x_3, x_4, x_5]; \\ m = x_6; \\ \\mathbf{u} = [u_0, u_1, u_2];\\\\\n",
    "&&      & \\mu=3.986012e14;\\ \\omega_e = [0, 0, 7.29211585e-5]^T;\\ R_e = 6378145;\\\\\n",
    "&&      & \\rho_0=1.225;\\ H_0=7200;\\ C_d=0.5;\\ A^{\\text{ref}}=4\\pi;\\\\\n",
    "&&      & T^0=4854100;\\ T^1=2968600;\\ T^2=1083100; T^3=110094;\\\\\n",
    "&&      & \\dot{m}^0=1723.273;\\ \\dot{m}^1=1044.682;\\ \\dot{m}^2=366.092;\\ \\dot{m}^3=24.029;\\\\\n",
    "&\\quad \\textit{Dynamics:} &      & \\dot{\\mathbf{r}} =  \\mathbf{v}\\\\\n",
    "&                  &      & \\dot{\\mathbf{v}} =  -\\dfrac{\\mu}{|{\\mathbf{r}|}^3}\\mathbf{r} + \\dfrac{T^p}{m}\\mathbf{u} - \\dfrac{C_dA^{\\text{ref}}\\rho_0|{\\mathbf{v}-(\\omega_e\\times \\mathbf{r})}|(\\mathbf{v}-(\\omega_e\\times \\mathbf{r}))e^{\\frac{|{\\mathbf{r}}|-R_e}{H_0}}}{2m}\\\\\n",
    "& &      & \\dot{m} = -\\dot{m}^p \\qquad \\qquad p = 0, 1, 2, 3\\\\\n",
    "& \\quad \\textit{Path constraints: } &      & |{\\mathbf{u}}| = 1 \\\\\n",
    "&                  &      & |{\\mathbf{r}}| \\geq R_e \\\\\n",
    "& \\quad \\textit{Terminal constraints: } & & t_0^0 =0;\\ t_0^1 = 75.2;\\ t_0^2=150.4;\\ t_0^3 = 261   \\\\\n",
    "&                  & & t_f^0 =75.2;\\ t_f^1 = 150.4;\\ t_f^2=261 \\\\\n",
    "&&      & \\text{Let}\\ \\mathbf{r_f} = [x_0(t_f^3), x_1(t_f^3), x_2(t_f^3)]; \\ \\mathbf{v_f} = [x_3(t_f^3), x_4(t_f^3), x_5(t_f^3)];\\\\\n",
    "&                  & & a_f(\\mathbf{r_f}, \\mathbf{v_f}) = 24361140; e_f(\\mathbf{r_f}, \\mathbf{v_f}) = 0.7308; \\\\\n",
    "&                  & & i_f(\\mathbf{r_f}, \\mathbf{v_f}) = \\frac{28.5\\pi}{180}; \\Omega_f(\\mathbf{r_f}, \\mathbf{v_f}) = \\frac{269.8\\pi}{180}; \\\\\n",
    "&                  & & \\omega_f(\\mathbf{r_f}, \\mathbf{v_f}) = \\frac{130.5\\pi}{180};  \\\\\n",
    "&                  & & \\text{Where}\\ a_f, e_f, i_f, \\Omega_f, \\omega_f\\ \\text{are computed as follows}\\\\\n",
    "&                  & & \\mathbf{h} = \\mathbf{r_f}\\times \\mathbf{v_f};\\ \\mathbf{n} = [0, 0, 1]^T\\times \\mathbf{v_f};\\\\\n",
    "&                  & & \\mathbf{e} = \\frac{1}{\\mu}\\mathbf{v_f}\\times \\mathbf{h} - \\dfrac{\\mathbf{r_f}}{|{\\mathbf{r_f}}|};\\\\\n",
    "&                  & &e_f = |{\\mathbf{e}}|;\\ a_f = -\\dfrac{\\mu}{|{\\mathbf{v_f}}|^2-\\frac{2\\mu}{|{\\mathbf{r_f}}|}};\\ i_f = \\cos^{-1}\\left(\\dfrac{\\mathbf{h}.[0, 0, 1]^T}{|{\\mathbf{h}}|}\\right);\\\\\n",
    "&                  & & \\text{if }\\mathbf{n}[1]\\text{>0:}\\ \\Omega_f = \\cos^{-1}\\left(\\dfrac{\\mathbf{n}.[0, 0, 1]^T}{|{\\mathbf{n}}|}\\right)\\ \\text{else:}\\ \\Omega_f = (2\\pi - \\Omega_f);\\\\\n",
    "&                  & & \\text{if e[2]>0:}\\ \\omega_f = \\cos^{-1}\\left(\\dfrac{\\mathbf{n}.\\mathbf{e}}{|{\\mathbf{n}}|e_f}\\right)\\ \\text{else:}\\ \\omega_f = (2\\pi - \\omega_f);\\\\\n",
    "& \\quad \\textit{Event constraints: } &      &  \\mathbf{r}(t_f^p) - \\mathbf{r}(t_0^{p+1}) = 0; \\ \\mathbf{v}(t_f^{p}) - \\mathbf{v}(t_0^{p+1}) = 0; \\quad p = 0, 1, 2\\\\\n",
    "&  &      & m(t_f^p) - m(t_0^{p+1}) = [13680, 6840, 8830]\\quad p = 0, 1, 2\\\\\n",
    "& \\quad \\textit{Initial conditions: } &      &  \\mathbf{r}(t_0^0) = [5605222.973, 0, 3043387.761]; \\mathbf{v}(t_0^{0}) = [0, 408.74, 0];\\\\\n",
    "&  &      & m(t_0^0) = 301454\n",
    "  \\end{aligned}\n",
    "\n",
    "\n",
    "We first create an OCP object and then polulate the object with dynamics, path_constraints, terminal_constraints and objective (running_costs, terminal_costs)"
   ]
  },
  {
   "cell_type": "code",
   "execution_count": 2,
   "metadata": {},
   "outputs": [],
   "source": [
    "ocp = mp.OCP(n_states=7, n_controls=3, n_phases=4)"
   ]
  },
  {
   "cell_type": "code",
   "execution_count": 3,
   "metadata": {},
   "outputs": [],
   "source": [
    "# Initialize parameters\n",
    "Re = 6378145.0  # m\n",
    "omegaE = 7.29211585e-5\n",
    "rho0 = 1.225\n",
    "rhoH = 7200.0\n",
    "Sa = 4 * np.pi\n",
    "Cd = 0.5\n",
    "muE = 3.986012e14\n",
    "g0 = 9.80665\n",
    "\n",
    "# Variable initialization\n",
    "lat0 = 28.5 * np.pi / 180.0\n",
    "r0 = np.array([Re * np.cos(lat0), 0.0, Re * np.sin(lat0)])\n",
    "v0 = omegaE * np.array([-r0[1], r0[0], 0.0])\n",
    "m0 = 301454.0\n",
    "mf = 4164.0\n",
    "mdrySrb = 19290.0 - 17010.0\n",
    "mdryFirst = 104380.0 - 95550.0\n",
    "mdrySecond = 19300.0 - 16820.0\n",
    "x0 = np.array([r0[0], r0[1], r0[2], v0[0], v0[1], v0[2], m0])"
   ]
  },
  {
   "cell_type": "code",
   "execution_count": 4,
   "metadata": {},
   "outputs": [],
   "source": [
    "# Step-1 : Define dynamics\n",
    "# Thrust(N) and mass flow rate(kg/s) in each stage\n",
    "Thrust = [6 * 628500.0 + 1083100.0, 3 * 628500.0 + 1083100.0, 1083100.0, 110094.0]\n",
    "mdot = [\n",
    "    (6 * 17010.0) / (75.2) + (95550.0) / (261.0),\n",
    "    (3 * 17010.0) / (75.2) + (95550.0) / (261.0),\n",
    "    (95550.0) / (261.0),\n",
    "    16820.0 / 700.0,\n",
    "]\n",
    "\n",
    "\n",
    "def dynamics(x, u, t, param=0, T=0.0, mdot=0.0):\n",
    "    r = x[:3]\n",
    "    v = x[3:6]\n",
    "    m = x[6]\n",
    "    r_mag = ca.sqrt(r[0] * r[0] + r[1] * r[1] + r[2] * r[2])\n",
    "    v_rel = ca.vertcat(v[0] + r[1] * omegaE, v[1] - r[0] * omegaE, v[2])\n",
    "    v_rel_mag = ca.sqrt(v_rel[0] * v_rel[0] + v_rel[1] * v_rel[1] + v_rel[2] * v_rel[2])\n",
    "    h = r_mag - Re\n",
    "    rho = rho0 * ca.exp(-h / rhoH)\n",
    "    D = -rho / (2 * m) * Sa * Cd * v_rel_mag * v_rel\n",
    "    g = -muE / (r_mag * r_mag * r_mag) * r\n",
    "\n",
    "    xdot = [\n",
    "        x[3],\n",
    "        x[4],\n",
    "        x[5],\n",
    "        T / m * u[0] + param * D[0] + g[0],\n",
    "        T / m * u[1] + param * D[1] + g[1],\n",
    "        T / m * u[2] + param * D[2] + g[2],\n",
    "        -mdot,\n",
    "    ]\n",
    "    return xdot\n",
    "\n",
    "\n",
    "def get_dynamics(param):\n",
    "    dynamics0 = lambda x, u, t: dynamics(\n",
    "        x, u, t, param=param, T=Thrust[0], mdot=mdot[0]\n",
    "    )\n",
    "    dynamics1 = lambda x, u, t: dynamics(\n",
    "        x, u, t, param=param, T=Thrust[1], mdot=mdot[1]\n",
    "    )\n",
    "    dynamics2 = lambda x, u, t: dynamics(\n",
    "        x, u, t, param=param, T=Thrust[2], mdot=mdot[2]\n",
    "    )\n",
    "    dynamics3 = lambda x, u, t: dynamics(\n",
    "        x, u, t, param=param, T=Thrust[3], mdot=mdot[3]\n",
    "    )\n",
    "\n",
    "    return [dynamics0, dynamics1, dynamics2, dynamics3]\n",
    "\n",
    "\n",
    "ocp.dynamics = get_dynamics(0)"
   ]
  },
  {
   "cell_type": "code",
   "execution_count": 5,
   "metadata": {},
   "outputs": [],
   "source": [
    "# Step-2: Add path constraints\n",
    "def path_constraints0(x, u, t):\n",
    "    return [\n",
    "        u[0] * u[0] + u[1] * u[1] + u[2] * u[2] - 1,\n",
    "        -u[0] * u[0] - u[1] * u[1] - u[2] * u[2] + 1,\n",
    "        -ca.sqrt(x[0] * x[0] + x[1] * x[1] + x[2] * x[2]) / Re + 1,\n",
    "    ]\n",
    "\n",
    "\n",
    "ocp.path_constraints = [path_constraints0] * ocp.n_phases"
   ]
  },
  {
   "cell_type": "code",
   "execution_count": 6,
   "metadata": {},
   "outputs": [],
   "source": [
    "# Step-3: Add terminal cost and constraints\n",
    "def terminal_cost3(xf, tf, x0, t0):\n",
    "    return -xf[-1] / m0\n",
    "\n",
    "\n",
    "ocp.terminal_costs[3] = terminal_cost3\n",
    "\n",
    "\n",
    "def terminal_constraints3(x, t, x0, t0):\n",
    "    # https://space.stackexchange.com/questions/1904/how-to-programmatically-calculate-orbital-elements-using-position-velocity-vecto\n",
    "    # http://control.asu.edu/Classes/MAE462/462Lecture06.pdf\n",
    "    h = ca.vertcat(\n",
    "        x[1] * x[5] - x[4] * x[2], x[3] * x[2] - x[0] * x[5], x[0] * x[4] - x[1] * x[3]\n",
    "    )\n",
    "\n",
    "    n = ca.vertcat(-h[1], h[0], 0)\n",
    "    r = ca.sqrt(x[0] * x[0] + x[1] * x[1] + x[2] * x[2])\n",
    "\n",
    "    e = ca.vertcat(\n",
    "        1 / muE * (x[4] * h[2] - x[5] * h[1]) - x[0] / r,\n",
    "        1 / muE * (x[5] * h[0] - x[3] * h[2]) - x[1] / r,\n",
    "        1 / muE * (x[3] * h[1] - x[4] * h[0]) - x[2] / r,\n",
    "    )\n",
    "\n",
    "    e_mag = ca.sqrt(e[0] * e[0] + e[1] * e[1] + e[2] * e[2])\n",
    "    h_sq = h[0] * h[0] + h[1] * h[1] + h[2] * h[2]\n",
    "    v_mag = ca.sqrt(x[3] * x[3] + x[4] * x[4] + x[5] * x[5])\n",
    "\n",
    "    a = -muE / (v_mag * v_mag - 2.0 * muE / r)\n",
    "    i = ca.acos(h[2] / ca.sqrt(h_sq))\n",
    "    n_mag = ca.sqrt(n[0] * n[0] + n[1] * n[1])\n",
    "\n",
    "    node_asc = ca.acos(n[0] / n_mag)\n",
    "    # if n[1] < -1e-12:\n",
    "    node_asc = 2 * np.pi - node_asc\n",
    "\n",
    "    argP = ca.acos((n[0] * e[0] + n[1] * e[1]) / (n_mag * e_mag))\n",
    "    # if e[2] < 0:\n",
    "    #    argP = 2*np.pi - argP\n",
    "\n",
    "    a_req = 24361140.0\n",
    "    e_req = 0.7308\n",
    "    i_req = 28.5 * np.pi / 180.0\n",
    "    node_asc_req = 269.8 * np.pi / 180.0\n",
    "    argP_req = 130.5 * np.pi / 180.0\n",
    "\n",
    "    return [\n",
    "        (a - a_req) / (Re),\n",
    "        e_mag - e_req,\n",
    "        i - i_req,\n",
    "        node_asc - node_asc_req,\n",
    "        argP - argP_req,\n",
    "    ]\n",
    "\n",
    "\n",
    "ocp.terminal_constraints[3] = terminal_constraints3"
   ]
  },
  {
   "cell_type": "markdown",
   "metadata": {},
   "source": [
    "Scale the variables"
   ]
  },
  {
   "cell_type": "code",
   "execution_count": 7,
   "metadata": {},
   "outputs": [],
   "source": [
    "ocp.scale_x = [\n",
    "    1 / Re,\n",
    "    1 / Re,\n",
    "    1 / Re,\n",
    "    1 / np.sqrt(muE / Re),\n",
    "    1 / np.sqrt(muE / Re),\n",
    "    1 / np.sqrt(muE / Re),\n",
    "    1 / m0,\n",
    "]\n",
    "ocp.scale_t = np.sqrt(muE / Re) / Re"
   ]
  },
  {
   "cell_type": "markdown",
   "metadata": {},
   "source": [
    "Initial state and Final guess"
   ]
  },
  {
   "cell_type": "code",
   "execution_count": 8,
   "metadata": {},
   "outputs": [],
   "source": [
    "# Intial guess \n",
    "# Initial guess estimation\n",
    "def ae_to_rv(a, e, i, node, argP, th):\n",
    "    p = a * (1.0 - e * e)\n",
    "    r = p / (1.0 + e * np.cos(th))\n",
    "\n",
    "    r_vec = np.array([r * np.cos(th), r * np.sin(th), 0.0])\n",
    "    v_vec = np.sqrt(muE / p) * np.array([-np.sin(th), e + np.cos(th), 0.0])\n",
    "\n",
    "    cn, sn = np.cos(node), np.sin(node)\n",
    "    cp, sp = np.cos(argP), np.sin(argP)\n",
    "    ci, si = np.cos(i), np.sin(i)\n",
    "\n",
    "    R = np.array(\n",
    "        [\n",
    "            [cn * cp - sn * sp * ci, -cn * sp - sn * cp * ci, sn * si],\n",
    "            [sn * cp + cn * sp * ci, -sn * sp + cn * cp * ci, -cn * si],\n",
    "            [sp * si, cp * si, ci],\n",
    "        ]\n",
    "    )\n",
    "\n",
    "    r_i = np.dot(R, r_vec)\n",
    "    v_i = np.dot(R, v_vec)\n",
    "\n",
    "    return r_i, v_i\n",
    "\n",
    "\n",
    "# Target conditions\n",
    "a_req = 24361140.0\n",
    "e_req = 0.7308\n",
    "i_req = 28.5 * np.pi / 180.0\n",
    "node_asc_req = 269.8 * np.pi / 180.0\n",
    "argP_req = 130.5 * np.pi / 180.0\n",
    "th = 0.0\n",
    "rf, vf = ae_to_rv(a_req, e_req, i_req, node_asc_req, argP_req, th)"
   ]
  },
  {
   "cell_type": "markdown",
   "metadata": {},
   "source": [
    "Intial guess"
   ]
  },
  {
   "cell_type": "code",
   "execution_count": 9,
   "metadata": {},
   "outputs": [],
   "source": [
    "# Timings\n",
    "t0, t1, t2, t3, t4 = 0.0, 75.2, 150.4, 261.0, 924.0\n",
    "# Interpolate to get starting values for intermediate phases\n",
    "xf = np.array([rf[0], rf[1], rf[2], vf[0], vf[1], vf[2], mf + mdrySecond])\n",
    "x1 = x0 + (xf - x0) / (t4 - t0) * (t1 - t0)\n",
    "x2 = x0 + (xf - x0) / (t4 - t0) * (t2 - t0)\n",
    "x3 = x0 + (xf - x0) / (t4 - t0) * (t3 - t0)\n",
    "\n",
    "# Update the state discontinuity values across phases\n",
    "x0f = np.copy(x1)\n",
    "x0f[-1] = x0[-1] - (6 * 17010.0 + 95550.0 / t3 * t1)\n",
    "x1[-1] = x0f[-1] - 6 * mdrySrb\n",
    "\n",
    "x1f = np.copy(x2)\n",
    "x1f[-1] = x1[-1] - (3 * 17010.0 + 95550.0 / t3 * (t2 - t1))\n",
    "x2[-1] = x1f[-1] - 3 * mdrySrb\n",
    "\n",
    "x2f = np.copy(x3)\n",
    "x2f[-1] = x2[-1] - (95550.0 / t3 * (t3 - t2))\n",
    "x3[-1] = x2f[-1] - mdryFirst\n",
    "\n",
    "# Step-8b: Initial guess for the states, controls and phase start and final\n",
    "#             times\n",
    "ocp.x00 = np.array([x0, x1, x2, x3])\n",
    "ocp.xf0 = np.array([x0f, x1f, x2f, xf])\n",
    "ocp.u00 = np.array([[1, 0, 0], [1, 0, 0], [0, 1, 0], [0, 1, 0]])\n",
    "ocp.uf0 = np.array([[0, 1, 0], [0, 1, 0], [0, 1, 0], [0, 1, 0]])\n",
    "ocp.t00 = np.array([[t0], [t1], [t2], [t3]])\n",
    "ocp.tf0 = np.array([[t1], [t2], [t3], [t4]])"
   ]
  },
  {
   "cell_type": "markdown",
   "metadata": {},
   "source": [
    "Box constraints"
   ]
  },
  {
   "cell_type": "code",
   "execution_count": 10,
   "metadata": {},
   "outputs": [],
   "source": [
    "rmin, rmax = -2 * Re, 2 * Re\n",
    "vmin, vmax = -10000.0, 10000.0\n",
    "rvmin = [rmin, rmin, rmin, vmin, vmin, vmin]\n",
    "rvmax = [rmax, rmax, rmax, vmax, vmax, vmax]\n",
    "lbx0 = rvmin + [x0f[-1]]\n",
    "lbx1 = rvmin + [x1f[-1]]\n",
    "lbx2 = rvmin + [x2f[-1]]\n",
    "lbx3 = rvmin + [xf[-1]]\n",
    "ubx0 = rvmax + [x0[-1]]\n",
    "ubx1 = rvmax + [x1[-1]]\n",
    "ubx2 = rvmax + [x2[-1]]\n",
    "ubx3 = rvmax + [x3[-1]]\n",
    "ocp.lbx = np.array([lbx0, lbx1, lbx2, lbx3])\n",
    "ocp.ubx = np.array([ubx0, ubx1, ubx2, ubx3])\n",
    "\n",
    "# Bounds for control inputs\n",
    "umin = [-1, -1, -1]\n",
    "umax = [1, 1, 1]\n",
    "ocp.lbu = np.array([umin] * ocp.n_phases)\n",
    "ocp.ubu = np.array([umax] * ocp.n_phases)\n",
    "\n",
    "# Bounds for phase start and final times\n",
    "ocp.lbt0 = np.array([[t0], [t1], [t2], [t3]])\n",
    "ocp.ubt0 = np.array([[t0], [t1], [t2], [t3]])\n",
    "ocp.lbtf = np.array([[t1], [t2], [t3], [t4 - 100]])\n",
    "ocp.ubtf = np.array([[t1], [t2], [t3], [t4 + 100]])\n",
    "\n",
    "# Event constraint bounds on states : State continuity/disc.\n",
    "lbe0 = [0.0, 0.0, 0.0, 0.0, 0.0, 0.0, -6 * mdrySrb]\n",
    "lbe1 = [0.0, 0.0, 0.0, 0.0, 0.0, 0.0, -3 * mdrySrb]\n",
    "lbe2 = [0.0, 0.0, 0.0, 0.0, 0.0, 0.0, -mdryFirst]\n",
    "ocp.lbe = np.array([lbe0, lbe1, lbe2])\n",
    "ocp.ube = np.array([lbe0, lbe1, lbe2])"
   ]
  },
  {
   "cell_type": "code",
   "execution_count": 11,
   "metadata": {},
   "outputs": [],
   "source": [
    "ocp.validate()"
   ]
  },
  {
   "cell_type": "markdown",
   "metadata": {},
   "source": [
    "### Solve with atmospheric drag disabled "
   ]
  },
  {
   "cell_type": "code",
   "execution_count": 12,
   "metadata": {},
   "outputs": [
    {
     "name": "stdout",
     "output_type": "stream",
     "text": [
      "\n",
      "******************************************************************************\n",
      "This program contains Ipopt, a library for large-scale nonlinear optimization.\n",
      " Ipopt is released as open source code under the Eclipse Public License (EPL).\n",
      "         For more information visit http://projects.coin-or.org/Ipopt\n",
      "******************************************************************************\n",
      "\n",
      "Total number of variables............................:      474\n",
      "                     variables with only lower bounds:        0\n",
      "                variables with lower and upper bounds:      474\n",
      "                     variables with only upper bounds:        0\n",
      "Total number of equality constraints.................:      374\n",
      "Total number of inequality constraints...............:      276\n",
      "        inequality constraints with only lower bounds:        0\n",
      "   inequality constraints with lower and upper bounds:      132\n",
      "        inequality constraints with only upper bounds:      144\n",
      "\n",
      "\n",
      "Number of Iterations....: 320\n",
      "\n",
      "                                   (scaled)                 (unscaled)\n",
      "Objective...............:  -2.7222444839176720e-02   -2.7222444839176720e-02\n",
      "Dual infeasibility......:   1.5901114178071890e-09    1.5901114178071890e-09\n",
      "Constraint violation....:   1.9999240413043351e-08    1.9999240413043351e-08\n",
      "Complementarity.........:   2.5890735722630404e-09    2.5890735722630404e-09\n",
      "Overall NLP error.......:   1.9999240413043351e-08    1.9999240413043351e-08\n",
      "\n",
      "\n",
      "Number of objective function evaluations             = 806\n",
      "Number of objective gradient evaluations             = 312\n",
      "Number of equality constraint evaluations            = 807\n",
      "Number of inequality constraint evaluations          = 807\n",
      "Number of equality constraint Jacobian evaluations   = 323\n",
      "Number of inequality constraint Jacobian evaluations = 323\n",
      "Number of Lagrangian Hessian evaluations             = 321\n",
      "Total CPU secs in IPOPT (w/o function evaluations)   =      4.019\n",
      "Total CPU secs in NLP function evaluations           =      0.182\n",
      "\n",
      "EXIT: Solved To Acceptable Level.\n",
      "      solver  :   t_proc      (avg)   t_wall      (avg)    n_eval\n",
      "       nlp_f  |   2.18ms (  2.71us)   2.15ms (  2.66us)       806\n",
      "       nlp_g  |  62.39ms ( 77.31us)  61.96ms ( 76.78us)       807\n",
      "    nlp_grad  | 161.00us (161.00us) 159.72us (159.72us)         1\n",
      "  nlp_grad_f  |   1.81ms (  5.78us)   1.76ms (  5.63us)       313\n",
      "  nlp_hess_l  |  37.45ms (117.03us)  37.34ms (116.69us)       320\n",
      "   nlp_jac_g  |  51.28ms (158.28us)  51.17ms (157.94us)       324\n",
      "       total  |   4.24 s (  4.24 s)   4.22 s (  4.22 s)         1\n"
     ]
    }
   ],
   "source": [
    "ocp.dynamics = get_dynamics(0)\n",
    "mpo = mp.mpopt(ocp, 1, 11)\n",
    "sol = mpo.solve()"
   ]
  },
  {
   "cell_type": "markdown",
   "metadata": {},
   "source": [
    "Solve the problem with drag enabled now with revised initial guess"
   ]
  },
  {
   "cell_type": "code",
   "execution_count": 13,
   "metadata": {},
   "outputs": [
    {
     "name": "stdout",
     "output_type": "stream",
     "text": [
      "Total number of variables............................:      474\n",
      "                     variables with only lower bounds:        0\n",
      "                variables with lower and upper bounds:      474\n",
      "                     variables with only upper bounds:        0\n",
      "Total number of equality constraints.................:      374\n",
      "Total number of inequality constraints...............:      276\n",
      "        inequality constraints with only lower bounds:        0\n",
      "   inequality constraints with lower and upper bounds:      132\n",
      "        inequality constraints with only upper bounds:      144\n",
      "\n",
      "\n",
      "Number of Iterations....: 119\n",
      "\n",
      "                                   (scaled)                 (unscaled)\n",
      "Objective...............:  -2.4977981075384650e-02   -2.4977981075384650e-02\n",
      "Dual infeasibility......:   1.2976399535433416e-08    1.2976399535433416e-08\n",
      "Constraint violation....:   6.8977004524795049e-09    6.8977004524795049e-09\n",
      "Complementarity.........:   2.5143327708305730e-09    2.5143327708305730e-09\n",
      "Overall NLP error.......:   6.8977004524795049e-09    1.2976399535433416e-08\n",
      "\n",
      "\n",
      "Number of objective function evaluations             = 262\n",
      "Number of objective gradient evaluations             = 120\n",
      "Number of equality constraint evaluations            = 262\n",
      "Number of inequality constraint evaluations          = 262\n",
      "Number of equality constraint Jacobian evaluations   = 120\n",
      "Number of inequality constraint Jacobian evaluations = 120\n",
      "Number of Lagrangian Hessian evaluations             = 119\n",
      "Total CPU secs in IPOPT (w/o function evaluations)   =      1.941\n",
      "Total CPU secs in NLP function evaluations           =      0.106\n",
      "\n",
      "EXIT: Optimal Solution Found.\n",
      "      solver  :   t_proc      (avg)   t_wall      (avg)    n_eval\n",
      "       nlp_f  | 801.00us (  3.06us) 779.38us (  2.97us)       262\n",
      "       nlp_g  |  26.59ms (101.48us)  26.88ms (102.59us)       262\n",
      "    nlp_grad  | 183.00us (183.00us) 248.72us (248.72us)         1\n",
      "  nlp_grad_f  | 786.00us (  6.50us) 762.01us (  6.30us)       121\n",
      "  nlp_hess_l  |  36.99ms (310.85us)  37.56ms (315.60us)       119\n",
      "   nlp_jac_g  |  31.55ms (260.72us)  32.24ms (266.46us)       121\n",
      "       total  |   2.07 s (  2.07 s)   2.10 s (  2.10 s)         1\n"
     ]
    }
   ],
   "source": [
    "ocp.dynamics = get_dynamics(1)\n",
    "ocp.validate()\n",
    "\n",
    "mpo._ocp = ocp\n",
    "sol = mpo.solve(\n",
    "    sol, reinitialize_nlp=True, nlp_solver_options={\"ipopt.acceptable_tol\": 1e-6}\n",
    ")"
   ]
  },
  {
   "cell_type": "markdown",
   "metadata": {},
   "source": [
    "Retrive data from the solution"
   ]
  },
  {
   "cell_type": "code",
   "execution_count": 14,
   "metadata": {},
   "outputs": [
    {
     "name": "stdout",
     "output_type": "stream",
     "text": [
      "Final time :  924.1393 (MPOPT) vs 924.1413s(PSOPT)\n",
      "Final mass :  7529.7123 (MPOPT) vs 7529.7123kg (GPOPS-II)\n"
     ]
    }
   ],
   "source": [
    "post = mpo.process_results(sol, plot=False, scaling=False)\n",
    "mp.post_process._INTERPOLATION_NODES_PER_SEG = 200\n",
    "x, u, t, _ = post.get_data(interpolate=True)\n",
    "print(\"Final time : \", round(t[-1], 4), \"(MPOPT) vs 924.1413s(PSOPT)\")\n",
    "print(\"Final mass : \", round(-sol[\"f\"].full()[0, 0] * m0, 4), \"(MPOPT) vs 7529.7123kg (GPOPS-II)\")"
   ]
  },
  {
   "cell_type": "markdown",
   "metadata": {},
   "source": [
    "### Plot results"
   ]
  },
  {
   "cell_type": "markdown",
   "metadata": {},
   "source": [
    "plot steering data (Thrust vector)"
   ]
  },
  {
   "cell_type": "code",
   "execution_count": 15,
   "metadata": {},
   "outputs": [
    {
     "data": {
      "image/png": "[encoded data removed]",
      "text/plain": [
       "<Figure size 432x288 with 1 Axes>"
      ]
     },
     "metadata": {
      "needs_background": "light"
     },
     "output_type": "display_data"
    }
   ],
   "source": [
    "figu, axsu = post.plot_u()"
   ]
  },
  {
   "cell_type": "markdown",
   "metadata": {},
   "source": [
    "plot mass of the vehicle"
   ]
  },
  {
   "cell_type": "code",
   "execution_count": 16,
   "metadata": {},
   "outputs": [
    {
     "data": {
      "image/png": "[encoded data removed]",
      "text/plain": [
       "<Figure size 432x288 with 1 Axes>"
      ]
     },
     "metadata": {
      "needs_background": "light"
     },
     "output_type": "display_data"
    }
   ],
   "source": [
    "\n",
    "# Plot mass\n",
    "figm, axsm = post.plot_single_variable(\n",
    "    x * 1e-3,\n",
    "    t,\n",
    "    [[-1]],\n",
    "    axis=0,\n",
    "    fig=None,\n",
    "    axs=None,\n",
    "    tics=[\"-\"] * 15,\n",
    "    name=\"mass\",\n",
    "    ylabel=\"Mass in tons\",\n",
    ")"
   ]
  },
  {
   "cell_type": "markdown",
   "metadata": {},
   "source": [
    "Plot height and velocity profile"
   ]
  },
  {
   "cell_type": "code",
   "execution_count": 17,
   "metadata": {},
   "outputs": [
    {
     "data": {
      "image/png": "[encoded data removed]",
      "text/plain": [
       "<Figure size 864x432 with 2 Axes>"
      ]
     },
     "metadata": {
      "needs_background": "light"
     },
     "output_type": "display_data"
    }
   ],
   "source": [
    "mp.plt.rcParams[\"figure.figsize\"] = (12,6)\n",
    "# Compute and plot altitude, velocity\n",
    "r = 1e-3 * (np.sqrt(x[:, 0] ** 2 + x[:, 1] ** 2 + x[:, 2] ** 2) - Re)\n",
    "v = 1e-3 * np.sqrt(x[:, 3] ** 2 + x[:, 4] ** 2 + x[:, 5] ** 2)\n",
    "y = np.column_stack((r, v))\n",
    "fig, axs = post.plot_single_variable(y, t, [[0], [1]], axis=0)\n",
    "\n",
    "x, u, t, _ = post.get_data(interpolate=False)\n",
    "r = 1e-3 * (np.sqrt(x[:, 0] ** 2 + x[:, 1] ** 2 + x[:, 2] ** 2) - Re)\n",
    "v = 1e-3 * np.sqrt(x[:, 3] ** 2 + x[:, 4] ** 2 + x[:, 5] ** 2)\n",
    "y = np.column_stack((r, v))\n",
    "fig, axs = post.plot_single_variable(\n",
    "    y, t, [[0], [1]], axis=0, fig=fig, axs=axs, tics=[\".\"] * 15\n",
    ")\n",
    "axs[0].set(ylabel=\"Altitude, km\", xlabel=\"Time, s\")\n",
    "axs[1].set(ylabel=\"Velocity, km/s\", xlabel=\"Time, s\")\n",
    "\n",
    "# Plot mass at the collocation nodes\n",
    "figm, axsm = post.plot_single_variable(\n",
    "    x * 1e-3, t, [[-1]], axis=0, fig=figm, axs=axsm, tics=[\".\"] * 15\n",
    ")"
   ]
  },
  {
   "cell_type": "code",
   "execution_count": null,
   "metadata": {},
   "outputs": [],
   "source": []
  }
 ],
 "metadata": {
  "kernelspec": {
   "display_name": "Python 3",
   "language": "python",
   "name": "python3"
  },
  "language_info": {
   "codemirror_mode": {
    "name": "ipython",
    "version": 3
   },
   "file_extension": ".py",
   "mimetype": "text/x-python",
   "name": "python",
   "nbconvert_exporter": "python",
   "pygments_lexer": "ipython3",
   "version": "3.8.5"
  }
 },
 "nbformat": 4,
 "nbformat_minor": 4
}
