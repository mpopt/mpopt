{
 "cells": [
  {
   "cell_type": "markdown",
   "metadata": {},
   "source": [
    "# **Hypersensitive OCP**\n",
    "(c) 2023 Devakumar Thammisetty\n",
    "\n",
    "MPOPT is an open-source Multi-phase Optimal Control Problem (OCP) solver based on pseudo-spectral collocation with customized adaptive grid refinement techniques.\n",
    "\n",
    "https://mpopt.readthedocs.io/\n",
    "\n",
    "Download this notebook: [hypersensitive.ipynb](https://github.com/mpopt/mpopt/blob/docs/docs/source/notebooks/hypersensitive.ipynb)"
   ]
  },
  {
   "cell_type": "markdown",
   "metadata": {},
   "source": [
    "Install mpopt from pypi using the following. Disable after first usage"
   ]
  },
  {
   "cell_type": "markdown",
   "metadata": {},
   "source": [
    "Import mpopt (Contains main solver modules)"
   ]
  },
  {
   "cell_type": "code",
   "execution_count": 1,
   "metadata": {},
   "outputs": [],
   "source": [
    "#!pip install mpopt\n",
    "from mpopt import mp"
   ]
  },
  {
   "cell_type": "markdown",
   "metadata": {},
   "source": [
    "### Defining OCP\n",
    "\n",
    "Hypersensitive OCP:\n",
    "https://www.gpops2.com/Examples/HyperSensitive.html\n",
    "\n",
    "   \\begin{aligned}\n",
    "&\\min_{x, u}        & \\qquad & J = 0 + \\dfrac{1}{2}\\int_{t_0}^{t_f} (x^2 + u^2) \\ dt\\\\\n",
    "&\\text{subject to} &      & \\dot{x} = -x^3 + u\\\\\n",
    "&                  &      & x_0(t_0) = 1; t_0 = 0;\\\\\n",
    "&                  &      & x_1(t_f) = 0; t_f = 1000\n",
    "  \\end{aligned}\n",
    "\n",
    "\n",
    "We first create an OCP object and then polulate the object with dynamics, path_constraints, terminal_constraints and objective (running_costs, terminal_costs)"
   ]
  },
  {
   "cell_type": "code",
   "execution_count": 2,
   "metadata": {},
   "outputs": [],
   "source": [
    "ocp = mp.OCP(n_states=1, n_controls=1, n_phases=1)"
   ]
  },
  {
   "cell_type": "code",
   "execution_count": 3,
   "metadata": {},
   "outputs": [],
   "source": [
    "ocp.dynamics[0] = lambda x, u, t: [-x[0] * x[0] * x[0] + u[0]]\n",
    "ocp.running_costs[0] = lambda x, u, t: 0.5 * (x[0] * x[0] + u[0] * u[0])\n",
    "ocp.terminal_constraints[0] = lambda xf, tf, x0, t0: [xf[0] - 1.0]"
   ]
  },
  {
   "cell_type": "markdown",
   "metadata": {},
   "source": [
    "Initial state"
   ]
  },
  {
   "cell_type": "code",
   "execution_count": 4,
   "metadata": {},
   "outputs": [],
   "source": [
    "ocp.x00[0] = 1"
   ]
  },
  {
   "cell_type": "markdown",
   "metadata": {},
   "source": [
    "Box constraints"
   ]
  },
  {
   "cell_type": "code",
   "execution_count": 5,
   "metadata": {},
   "outputs": [],
   "source": [
    "ocp.lbtf[0] = ocp.ubtf[0] = 1000.0"
   ]
  },
  {
   "cell_type": "markdown",
   "metadata": {},
   "source": [
    "Scale the time variable"
   ]
  },
  {
   "cell_type": "code",
   "execution_count": 6,
   "metadata": {},
   "outputs": [],
   "source": [
    "ocp.scale_t = 1 / 1000.0"
   ]
  },
  {
   "cell_type": "code",
   "execution_count": 7,
   "metadata": {},
   "outputs": [],
   "source": [
    "ocp.validate()"
   ]
  },
  {
   "cell_type": "markdown",
   "metadata": {},
   "source": [
    "### Solve and plot the results in one line\n",
    "\n",
    "Lets solve the OCP using following pseudo-spectral approximation\n",
    "* Collocation using Legendre-Gauss-Radau roots\n",
    "* Let's plot the position and velocity evolution with time starting from 0.\n"
   ]
  },
  {
   "cell_type": "code",
   "execution_count": 8,
   "metadata": {},
   "outputs": [
    {
     "name": "stdout",
     "output_type": "stream",
     "text": [
      "\n",
      "******************************************************************************\n",
      "This program contains Ipopt, a library for large-scale nonlinear optimization.\n",
      " Ipopt is released as open source code under the Eclipse Public License (EPL).\n",
      "         For more information visit http://projects.coin-or.org/Ipopt\n",
      "******************************************************************************\n",
      "\n",
      "Total number of variables............................:      501\n",
      "                     variables with only lower bounds:        0\n",
      "                variables with lower and upper bounds:        0\n",
      "                     variables with only upper bounds:        0\n",
      "Total number of equality constraints.................:      252\n",
      "Total number of inequality constraints...............:        0\n",
      "        inequality constraints with only lower bounds:        0\n",
      "   inequality constraints with lower and upper bounds:        0\n",
      "        inequality constraints with only upper bounds:        0\n",
      "\n",
      "\n",
      "Number of Iterations....: 12\n",
      "\n",
      "                                   (scaled)                 (unscaled)\n",
      "Objective...............:   1.1498050755273090e+00    1.1498050755273090e+00\n",
      "Dual infeasibility......:   4.7184478546569153e-16    4.7184478546569153e-16\n",
      "Constraint violation....:   1.4589005542615039e-14    1.1368683772161603e-13\n",
      "Complementarity.........:   0.0000000000000000e+00    0.0000000000000000e+00\n",
      "Overall NLP error.......:   1.4589005542615039e-14    1.1368683772161603e-13\n",
      "\n",
      "\n",
      "Number of objective function evaluations             = 30\n",
      "Number of objective gradient evaluations             = 13\n",
      "Number of equality constraint evaluations            = 42\n",
      "Number of inequality constraint evaluations          = 0\n",
      "Number of equality constraint Jacobian evaluations   = 13\n",
      "Number of inequality constraint Jacobian evaluations = 0\n",
      "Number of Lagrangian Hessian evaluations             = 12\n",
      "Total CPU secs in IPOPT (w/o function evaluations)   =      0.066\n",
      "Total CPU secs in NLP function evaluations           =      0.010\n",
      "\n",
      "EXIT: Optimal Solution Found.\n",
      "      solver  :   t_proc      (avg)   t_wall      (avg)    n_eval\n",
      "       nlp_f  | 340.00us ( 11.33us) 340.41us ( 11.35us)        30\n",
      "       nlp_g  |   4.85ms (115.38us)   4.78ms (113.76us)        42\n",
      "    nlp_grad  | 266.00us (266.00us) 265.36us (265.36us)         1\n",
      "  nlp_grad_f  | 322.00us ( 23.00us) 322.67us ( 23.05us)        14\n",
      "  nlp_hess_l  | 592.00us ( 49.33us) 595.87us ( 49.66us)        12\n",
      "   nlp_jac_g  |   2.76ms (197.43us)   2.75ms (196.68us)        14\n",
      "       total  |  76.82ms ( 76.82ms)  76.14ms ( 76.14ms)         1\n"
     ]
    },
    {
     "data": {
      "image/png": "[encoded data removed]",
      "text/plain": [
       "<Figure size 432x288 with 2 Axes>"
      ]
     },
     "metadata": {
      "needs_background": "light"
     },
     "output_type": "display_data"
    }
   ],
   "source": [
    "mpo, post = mp.solve(ocp, n_segments=5, poly_orders=50, scheme=\"LGR\", plot=True)"
   ]
  },
  {
   "cell_type": "markdown",
   "metadata": {},
   "source": [
    "*Retrive the solution*\n",
    "\n",
    "x: states, u: Controls, t:time, a:Algebraic variables"
   ]
  },
  {
   "cell_type": "code",
   "execution_count": 9,
   "metadata": {},
   "outputs": [
    {
     "name": "stdout",
     "output_type": "stream",
     "text": [
      "Terminal time, state : 1000.0000 vs 1000 (Exact), [1.]\n"
     ]
    }
   ],
   "source": [
    "x, u, t, a = post.get_data()\n",
    "print(f\"Terminal time, state : {t[-1][0]:.4f} vs 1000 (Exact), {x[-1]}\")"
   ]
  },
  {
   "cell_type": "markdown",
   "metadata": {},
   "source": [
    "### Solve again with Chebyshev-Gauss-Lobatto (CGL) roots"
   ]
  },
  {
   "cell_type": "code",
   "execution_count": 10,
   "metadata": {},
   "outputs": [
    {
     "name": "stdout",
     "output_type": "stream",
     "text": [
      "Total number of variables............................:      501\n",
      "                     variables with only lower bounds:        0\n",
      "                variables with lower and upper bounds:        0\n",
      "                     variables with only upper bounds:        0\n",
      "Total number of equality constraints.................:      252\n",
      "Total number of inequality constraints...............:        0\n",
      "        inequality constraints with only lower bounds:        0\n",
      "   inequality constraints with lower and upper bounds:        0\n",
      "        inequality constraints with only upper bounds:        0\n",
      "\n",
      "\n",
      "Number of Iterations....: 12\n",
      "\n",
      "                                   (scaled)                 (unscaled)\n",
      "Objective...............:   1.1406025536022588e+00    1.1406025536022588e+00\n",
      "Dual infeasibility......:   5.5128124287762148e-13    5.5128124287762148e-13\n",
      "Constraint violation....:   5.6878507039202523e-12    1.8587797967484221e-11\n",
      "Complementarity.........:   0.0000000000000000e+00    0.0000000000000000e+00\n",
      "Overall NLP error.......:   5.6878507039202523e-12    1.8587797967484221e-11\n",
      "\n",
      "\n",
      "Number of objective function evaluations             = 36\n",
      "Number of objective gradient evaluations             = 13\n",
      "Number of equality constraint evaluations            = 49\n",
      "Number of inequality constraint evaluations          = 0\n",
      "Number of equality constraint Jacobian evaluations   = 13\n",
      "Number of inequality constraint Jacobian evaluations = 0\n",
      "Number of Lagrangian Hessian evaluations             = 12\n",
      "Total CPU secs in IPOPT (w/o function evaluations)   =      0.061\n",
      "Total CPU secs in NLP function evaluations           =      0.010\n",
      "\n",
      "EXIT: Optimal Solution Found.\n",
      "      solver  :   t_proc      (avg)   t_wall      (avg)    n_eval\n",
      "       nlp_f  | 425.00us ( 11.81us) 407.26us ( 11.31us)        36\n",
      "       nlp_g  |   5.59ms (114.14us)   5.58ms (113.88us)        49\n",
      "    nlp_grad  | 264.00us (264.00us) 263.05us (263.05us)         1\n",
      "  nlp_grad_f  | 325.00us ( 23.21us) 325.10us ( 23.22us)        14\n",
      "  nlp_hess_l  | 614.00us ( 51.17us) 617.11us ( 51.43us)        12\n",
      "   nlp_jac_g  |   2.82ms (201.79us)   2.81ms (201.06us)        14\n",
      "       total  |  78.41ms ( 78.41ms)  77.65ms ( 77.65ms)         1\n"
     ]
    },
    {
     "data": {
      "image/png": "[encoded data removed]",
      "text/plain": [
       "<Figure size 432x288 with 2 Axes>"
      ]
     },
     "metadata": {
      "needs_background": "light"
     },
     "output_type": "display_data"
    }
   ],
   "source": [
    "mpo, post = mp.solve(ocp, n_segments=5, poly_orders=50, scheme=\"CGL\", plot=True)"
   ]
  },
  {
   "cell_type": "code",
   "execution_count": 11,
   "metadata": {},
   "outputs": [
    {
     "name": "stdout",
     "output_type": "stream",
     "text": [
      "Terminal time, state : 1000.0000 vs 1000s (Exact), [1.]\n"
     ]
    }
   ],
   "source": [
    "x, u, t, a = post.get_data()\n",
    "print(f\"Terminal time, state : {t[-1][0]:.4f} vs 1000s (Exact), {x[-1]}\")"
   ]
  },
  {
   "cell_type": "markdown",
   "metadata": {},
   "source": [
    "### Solve again with Legendre-Gauss-Lobatto (LGL) roots"
   ]
  },
  {
   "cell_type": "code",
   "execution_count": 12,
   "metadata": {},
   "outputs": [
    {
     "name": "stdout",
     "output_type": "stream",
     "text": [
      "Total number of variables............................:      501\n",
      "                     variables with only lower bounds:        0\n",
      "                variables with lower and upper bounds:        0\n",
      "                     variables with only upper bounds:        0\n",
      "Total number of equality constraints.................:      252\n",
      "Total number of inequality constraints...............:        0\n",
      "        inequality constraints with only lower bounds:        0\n",
      "   inequality constraints with lower and upper bounds:        0\n",
      "        inequality constraints with only upper bounds:        0\n",
      "\n",
      "\n",
      "Number of Iterations....: 12\n",
      "\n",
      "                                   (scaled)                 (unscaled)\n",
      "Objective...............:   1.1502075893651909e+00    1.1502075893651909e+00\n",
      "Dual infeasibility......:   1.0234087882698972e-13    1.0234087882698972e-13\n",
      "Constraint violation....:   4.7414571594509346e-13    1.3997691894473974e-12\n",
      "Complementarity.........:   0.0000000000000000e+00    0.0000000000000000e+00\n",
      "Overall NLP error.......:   4.7414571594509346e-13    1.3997691894473974e-12\n",
      "\n",
      "\n",
      "Number of objective function evaluations             = 36\n",
      "Number of objective gradient evaluations             = 13\n",
      "Number of equality constraint evaluations            = 49\n",
      "Number of inequality constraint evaluations          = 0\n",
      "Number of equality constraint Jacobian evaluations   = 13\n",
      "Number of inequality constraint Jacobian evaluations = 0\n",
      "Number of Lagrangian Hessian evaluations             = 12\n",
      "Total CPU secs in IPOPT (w/o function evaluations)   =      0.064\n",
      "Total CPU secs in NLP function evaluations           =      0.011\n",
      "\n",
      "EXIT: Optimal Solution Found.\n",
      "      solver  :   t_proc      (avg)   t_wall      (avg)    n_eval\n",
      "       nlp_f  | 423.00us ( 11.75us) 431.21us ( 11.98us)        36\n",
      "       nlp_g  |   6.12ms (124.82us)   6.12ms (124.86us)        49\n",
      "    nlp_grad  | 264.00us (264.00us) 263.12us (263.12us)         1\n",
      "  nlp_grad_f  | 326.00us ( 23.29us) 327.97us ( 23.43us)        14\n",
      "  nlp_hess_l  | 611.00us ( 50.92us) 610.94us ( 50.91us)        12\n",
      "   nlp_jac_g  |   2.82ms (201.07us)   2.82ms (201.54us)        14\n",
      "       total  |  77.49ms ( 77.49ms)  76.93ms ( 76.93ms)         1\n"
     ]
    },
    {
     "data": {
      "image/png": "[encoded data removed]",
      "text/plain": [
       "<Figure size 432x288 with 2 Axes>"
      ]
     },
     "metadata": {
      "needs_background": "light"
     },
     "output_type": "display_data"
    }
   ],
   "source": [
    "mpo, post = mp.solve(ocp, n_segments=5, poly_orders=50, scheme=\"LGL\", plot=True)"
   ]
  },
  {
   "cell_type": "code",
   "execution_count": 13,
   "metadata": {},
   "outputs": [
    {
     "name": "stdout",
     "output_type": "stream",
     "text": [
      "Terminal time, state : 1000.0000 vs 1000s (Exact), [1.]\n"
     ]
    }
   ],
   "source": [
    "x, u, t, a = post.get_data()\n",
    "print(f\"Terminal time, state : {t[-1][0]:.4f} vs 1000s (Exact), {x[-1]}\")"
   ]
  },
  {
   "cell_type": "code",
   "execution_count": null,
   "metadata": {},
   "outputs": [],
   "source": []
  }
 ],
 "metadata": {
  "kernelspec": {
   "display_name": "Python 3",
   "language": "python",
   "name": "python3"
  },
  "language_info": {
   "codemirror_mode": {
    "name": "ipython",
    "version": 3
   },
   "file_extension": ".py",
   "mimetype": "text/x-python",
   "name": "python",
   "nbconvert_exporter": "python",
   "pygments_lexer": "ipython3",
   "version": "3.8.5"
  }
 },
 "nbformat": 4,
 "nbformat_minor": 4
}
