{
 "cells": [
  {
   "cell_type": "markdown",
   "metadata": {},
   "source": [
    "# **Van der pol Oscillator**\n",
    "(c) 2023 Devakumar Thammisetty\n",
    "\n",
    "MPOPT is an open-source Multi-phase Optimal Control Problem (OCP) solver based on pseudo-spectral collocation with customized adaptive grid refinement techniques.\n",
    "\n",
    "https://mpopt.readthedocs.io/\n",
    "\n",
    "Download this notebook: [vanderpol.ipynb](https://github.com/mpopt/mpopt/blob/docs/docs/source/notebooks/vanderpol.ipynb)"
   ]
  },
  {
   "cell_type": "markdown",
   "metadata": {},
   "source": [
    "Install mpopt from pypi using the following. Disable after first usage"
   ]
  },
  {
   "cell_type": "markdown",
   "metadata": {},
   "source": [
    "Import mpopt (Contains main solver modules)"
   ]
  },
  {
   "cell_type": "code",
   "execution_count": 1,
   "metadata": {},
   "outputs": [],
   "source": [
    "#!pip install mpopt\n",
    "from mpopt import mp"
   ]
  },
  {
   "cell_type": "markdown",
   "metadata": {},
   "source": [
    "OCP definition\n",
    "---------------\n",
    "\n",
    "Van der Pol OCP:\n",
    "https://web.casadi.org/docs/#a-simple-test-problem\n",
    "\n",
    "   \\begin{aligned}\n",
    "&\\min_{x, u}        & \\qquad & J = 0 + \\int_{t_0}^{t_f}\\left(x_0^2+x_1^2+u^2\\right)dt\\\\\n",
    "&\\text{subject to} &      & \\dot{x_0} = (1-x_1^2)\\times x_0 - x_1 + u\\\\\n",
    "&                  &      & \\dot{x_1} = x_0 \\\\\n",
    "&                  &      & x_1 \\geq -0.25 \\\\\n",
    "&                  &      & -1 \\leq u \\leq 1 \\\\\n",
    "&                  &      & x_0(t_0) = 0; \\ x_1(t_0) = 1; \\\\\n",
    "&                  &      & t_0 = 0.0; \\ t_f = 10\n",
    "  \\end{aligned}\n",
    "\n",
    "\n",
    "We first create an OCP object and then polulate the object with dynamics, path_constraints, terminal_constraints and objective (running_costs, terminal_costs)"
   ]
  },
  {
   "cell_type": "code",
   "execution_count": 2,
   "metadata": {},
   "outputs": [],
   "source": [
    "ocp = mp.OCP(n_states=2, n_controls=1)"
   ]
  },
  {
   "cell_type": "code",
   "execution_count": 3,
   "metadata": {},
   "outputs": [],
   "source": [
    "def dynamics(x, u, t):\n",
    "    return [(1 - x[1] * x[1]) * x[0] - x[1] + u[0], x[0]]"
   ]
  },
  {
   "cell_type": "code",
   "execution_count": 4,
   "metadata": {},
   "outputs": [],
   "source": [
    "def running_cost(x, u, t):\n",
    "    return x[0] * x[0] + x[1] * x[1] + u[0] * u[0]"
   ]
  },
  {
   "cell_type": "code",
   "execution_count": 5,
   "metadata": {},
   "outputs": [],
   "source": [
    "ocp.dynamics[0] = dynamics\n",
    "ocp.running_costs[0] = running_cost"
   ]
  },
  {
   "cell_type": "markdown",
   "metadata": {},
   "source": [
    "Initial state"
   ]
  },
  {
   "cell_type": "code",
   "execution_count": 6,
   "metadata": {},
   "outputs": [],
   "source": [
    "ocp.x00[0] = [0, 1]"
   ]
  },
  {
   "cell_type": "markdown",
   "metadata": {},
   "source": [
    "Box constraints"
   ]
  },
  {
   "cell_type": "code",
   "execution_count": 7,
   "metadata": {},
   "outputs": [],
   "source": [
    "ocp.lbu[0] = -1.0\n",
    "ocp.ubu[0] = 1.0\n",
    "ocp.lbx[0][1] = -0.25\n",
    "ocp.lbtf[0] = 10.0\n",
    "ocp.ubtf[0] = 10.0"
   ]
  },
  {
   "cell_type": "code",
   "execution_count": 8,
   "metadata": {},
   "outputs": [],
   "source": [
    "ocp.validate()"
   ]
  },
  {
   "cell_type": "markdown",
   "metadata": {},
   "source": [
    "Solve and plot the results in one line\n",
    "----------------------------------------\n",
    "\n",
    "Lets solve the OCP using following pseudo-spectral approximation\n",
    "* Collocation using Legendre-Gauss-Radau roots\n",
    "* Let's plot the position and velocity evolution with time starting from 0.\n"
   ]
  },
  {
   "cell_type": "code",
   "execution_count": 9,
   "metadata": {},
   "outputs": [
    {
     "name": "stdout",
     "output_type": "stream",
     "text": [
      "\n",
      "******************************************************************************\n",
      "This program contains Ipopt, a library for large-scale nonlinear optimization.\n",
      " Ipopt is released as open source code under the Eclipse Public License (EPL).\n",
      "         For more information visit http://projects.coin-or.org/Ipopt\n",
      "******************************************************************************\n",
      "\n",
      "Total number of variables............................:       76\n",
      "                     variables with only lower bounds:       25\n",
      "                variables with lower and upper bounds:       26\n",
      "                     variables with only upper bounds:        0\n",
      "Total number of equality constraints.................:       52\n",
      "Total number of inequality constraints...............:       25\n",
      "        inequality constraints with only lower bounds:        0\n",
      "   inequality constraints with lower and upper bounds:       25\n",
      "        inequality constraints with only upper bounds:        0\n",
      "\n",
      "\n",
      "Number of Iterations....: 11\n",
      "\n",
      "                                   (scaled)                 (unscaled)\n",
      "Objective...............:   2.8734932991287625e+00    2.8734932991287625e+00\n",
      "Dual infeasibility......:   3.4605651677566129e-13    3.4605651677566129e-13\n",
      "Constraint violation....:   4.6562753652779065e-13    4.6562753652779065e-13\n",
      "Complementarity.........:   2.5153452656320664e-09    2.5153452656320664e-09\n",
      "Overall NLP error.......:   2.5153452656320664e-09    2.5153452656320664e-09\n",
      "\n",
      "\n",
      "Number of objective function evaluations             = 12\n",
      "Number of objective gradient evaluations             = 12\n",
      "Number of equality constraint evaluations            = 12\n",
      "Number of inequality constraint evaluations          = 12\n",
      "Number of equality constraint Jacobian evaluations   = 12\n",
      "Number of inequality constraint Jacobian evaluations = 12\n",
      "Number of Lagrangian Hessian evaluations             = 11\n",
      "Total CPU secs in IPOPT (w/o function evaluations)   =      0.016\n",
      "Total CPU secs in NLP function evaluations           =      0.002\n",
      "\n",
      "EXIT: Optimal Solution Found.\n",
      "      solver  :   t_proc      (avg)   t_wall      (avg)    n_eval\n",
      "       nlp_f  |  53.00us (  4.42us)  52.65us (  4.39us)        12\n",
      "       nlp_g  | 327.00us ( 27.25us) 323.85us ( 26.99us)        12\n",
      "    nlp_grad  |  58.00us ( 58.00us)  55.45us ( 55.45us)         1\n",
      "  nlp_grad_f  |  77.00us (  5.92us)  77.00us (  5.92us)        13\n",
      "  nlp_hess_l  | 112.00us ( 10.18us) 115.53us ( 10.50us)        11\n",
      "   nlp_jac_g  | 515.00us ( 39.62us) 515.59us ( 39.66us)        13\n",
      "       total  |  19.01ms ( 19.01ms)  19.51ms ( 19.51ms)         1\n"
     ]
    },
    {
     "data": {
      "image/png": "[encoded data removed]",
      "text/plain": [
       "<Figure size 432x288 with 2 Axes>"
      ]
     },
     "metadata": {
      "needs_background": "light"
     },
     "output_type": "display_data"
    }
   ],
   "source": [
    "mpo, post = mp.solve(ocp, n_segments=1, poly_orders=25, scheme=\"LGR\", plot=True)"
   ]
  },
  {
   "cell_type": "markdown",
   "metadata": {},
   "source": [
    "*Retrive the solution*\n",
    "\n",
    "x: states, u: Controls, t:time, a:Algebraic variables"
   ]
  },
  {
   "cell_type": "code",
   "execution_count": 10,
   "metadata": {},
   "outputs": [
    {
     "name": "stdout",
     "output_type": "stream",
     "text": [
      "Terminal time, state : 10.0000 vs 10 (Exact), [-0.00178384 -0.00014044]\n"
     ]
    }
   ],
   "source": [
    "x, u, t, a = post.get_data()\n",
    "print(f\"Terminal time, state : {t[-1][0]:.4f} vs 10 (Exact), {x[-1]}\")"
   ]
  },
  {
   "cell_type": "markdown",
   "metadata": {},
   "source": [
    "Solve again with Chebyshev-Gauss-Lobatto (CGL) roots\n",
    "------------------------------------------------------"
   ]
  },
  {
   "cell_type": "code",
   "execution_count": 11,
   "metadata": {},
   "outputs": [
    {
     "name": "stdout",
     "output_type": "stream",
     "text": [
      "Total number of variables............................:       76\n",
      "                     variables with only lower bounds:       25\n",
      "                variables with lower and upper bounds:       26\n",
      "                     variables with only upper bounds:        0\n",
      "Total number of equality constraints.................:       52\n",
      "Total number of inequality constraints...............:       25\n",
      "        inequality constraints with only lower bounds:        0\n",
      "   inequality constraints with lower and upper bounds:       25\n",
      "        inequality constraints with only upper bounds:        0\n",
      "\n",
      "\n",
      "Number of Iterations....: 12\n",
      "\n",
      "                                   (scaled)                 (unscaled)\n",
      "Objective...............:   2.8734060736207896e+00    2.8734060736207896e+00\n",
      "Dual infeasibility......:   2.6383995374325467e-12    2.6383995374325467e-12\n",
      "Constraint violation....:   2.1178614417749486e-12    2.1178614417749486e-12\n",
      "Complementarity.........:   2.5713635670826573e-09    2.5713635670826573e-09\n",
      "Overall NLP error.......:   2.5713635670826573e-09    2.5713635670826573e-09\n",
      "\n",
      "\n",
      "Number of objective function evaluations             = 13\n",
      "Number of objective gradient evaluations             = 13\n",
      "Number of equality constraint evaluations            = 13\n",
      "Number of inequality constraint evaluations          = 13\n",
      "Number of equality constraint Jacobian evaluations   = 13\n",
      "Number of inequality constraint Jacobian evaluations = 13\n",
      "Number of Lagrangian Hessian evaluations             = 12\n",
      "Total CPU secs in IPOPT (w/o function evaluations)   =      0.013\n",
      "Total CPU secs in NLP function evaluations           =      0.001\n",
      "\n",
      "EXIT: Optimal Solution Found.\n",
      "      solver  :   t_proc      (avg)   t_wall      (avg)    n_eval\n",
      "       nlp_f  |  58.00us (  4.46us)  57.81us (  4.45us)        13\n",
      "       nlp_g  | 358.00us ( 27.54us) 355.20us ( 27.32us)        13\n",
      "    nlp_grad  |  68.00us ( 68.00us)  67.78us ( 67.78us)         1\n",
      "  nlp_grad_f  |  86.00us (  6.14us)  83.08us (  5.93us)        14\n",
      "  nlp_hess_l  | 127.00us ( 10.58us) 126.75us ( 10.56us)        12\n",
      "   nlp_jac_g  | 536.00us ( 38.29us) 610.09us ( 43.58us)        14\n",
      "       total  |  20.51ms ( 20.51ms)  20.98ms ( 20.98ms)         1\n"
     ]
    },
    {
     "data": {
      "image/png": "[encoded data removed]",
      "text/plain": [
       "<Figure size 432x288 with 2 Axes>"
      ]
     },
     "metadata": {
      "needs_background": "light"
     },
     "output_type": "display_data"
    }
   ],
   "source": [
    "mpo, post = mp.solve(ocp, n_segments=1, poly_orders=25, scheme=\"CGL\", plot=True)"
   ]
  },
  {
   "cell_type": "code",
   "execution_count": 12,
   "metadata": {},
   "outputs": [
    {
     "name": "stdout",
     "output_type": "stream",
     "text": [
      "Terminal time, state : 10.0000 vs 10s (Exact), [-0.00178269 -0.00013973]\n"
     ]
    }
   ],
   "source": [
    "x, u, t, a = post.get_data()\n",
    "print(f\"Terminal time, state : {t[-1][0]:.4f} vs 10s (Exact), {x[-1]}\")"
   ]
  },
  {
   "cell_type": "markdown",
   "metadata": {},
   "source": [
    "### Solve again with Legendre-Gauss-Lobatto (LGL) roots"
   ]
  },
  {
   "cell_type": "code",
   "execution_count": 13,
   "metadata": {},
   "outputs": [
    {
     "name": "stdout",
     "output_type": "stream",
     "text": [
      "Total number of variables............................:       76\n",
      "                     variables with only lower bounds:       25\n",
      "                variables with lower and upper bounds:       26\n",
      "                     variables with only upper bounds:        0\n",
      "Total number of equality constraints.................:       52\n",
      "Total number of inequality constraints...............:       25\n",
      "        inequality constraints with only lower bounds:        0\n",
      "   inequality constraints with lower and upper bounds:       25\n",
      "        inequality constraints with only upper bounds:        0\n",
      "\n",
      "\n",
      "Number of Iterations....: 11\n",
      "\n",
      "                                   (scaled)                 (unscaled)\n",
      "Objective...............:   2.8734849959084205e+00    2.8734849959084205e+00\n",
      "Dual infeasibility......:   8.2869030765986375e-12    8.2869030765986375e-12\n",
      "Constraint violation....:   6.0937921375625592e-12    6.0937921375625592e-12\n",
      "Complementarity.........:   2.6832881949699023e-09    2.6832881949699023e-09\n",
      "Overall NLP error.......:   2.6832881949699023e-09    2.6832881949699023e-09\n",
      "\n",
      "\n",
      "Number of objective function evaluations             = 12\n",
      "Number of objective gradient evaluations             = 12\n",
      "Number of equality constraint evaluations            = 12\n",
      "Number of inequality constraint evaluations          = 12\n",
      "Number of equality constraint Jacobian evaluations   = 12\n",
      "Number of inequality constraint Jacobian evaluations = 12\n",
      "Number of Lagrangian Hessian evaluations             = 11\n",
      "Total CPU secs in IPOPT (w/o function evaluations)   =      0.015\n",
      "Total CPU secs in NLP function evaluations           =      0.002\n",
      "\n",
      "EXIT: Optimal Solution Found.\n",
      "      solver  :   t_proc      (avg)   t_wall      (avg)    n_eval\n",
      "       nlp_f  |  57.00us (  4.75us)  54.18us (  4.51us)        12\n",
      "       nlp_g  | 330.00us ( 27.50us) 326.96us ( 27.25us)        12\n",
      "    nlp_grad  |  53.00us ( 53.00us)  52.09us ( 52.09us)         1\n",
      "  nlp_grad_f  |  77.00us (  5.92us)  76.10us (  5.85us)        13\n",
      "  nlp_hess_l  | 119.00us ( 10.82us) 116.95us ( 10.63us)        11\n",
      "   nlp_jac_g  | 510.00us ( 39.23us) 516.94us ( 39.76us)        13\n",
      "       total  |  18.17ms ( 18.17ms)  17.80ms ( 17.80ms)         1\n"
     ]
    },
    {
     "data": {
      "image/png": "[encoded data removed]",
      "text/plain": [
       "<Figure size 432x288 with 2 Axes>"
      ]
     },
     "metadata": {
      "needs_background": "light"
     },
     "output_type": "display_data"
    }
   ],
   "source": [
    "mpo, post = mp.solve(ocp, n_segments=1, poly_orders=25, scheme=\"LGL\", plot=True)"
   ]
  },
  {
   "cell_type": "code",
   "execution_count": 14,
   "metadata": {},
   "outputs": [
    {
     "name": "stdout",
     "output_type": "stream",
     "text": [
      "Terminal time, state : 10.0000 vs 10s (Exact), [-0.00178275 -0.00014031]\n"
     ]
    }
   ],
   "source": [
    "x, u, t, a = post.get_data()\n",
    "print(f\"Terminal time, state : {t[-1][0]:.4f} vs 10s (Exact), {x[-1]}\")"
   ]
  },
  {
   "cell_type": "code",
   "execution_count": null,
   "metadata": {},
   "outputs": [],
   "source": []
  }
 ],
 "metadata": {
  "kernelspec": {
   "display_name": "Python 3",
   "language": "python",
   "name": "python3"
  },
  "language_info": {
   "codemirror_mode": {
    "name": "ipython",
    "version": 3
   },
   "file_extension": ".py",
   "mimetype": "text/x-python",
   "name": "python",
   "nbconvert_exporter": "python",
   "pygments_lexer": "ipython3",
   "version": "3.8.5"
  }
 },
 "nbformat": 4,
 "nbformat_minor": 4
}
