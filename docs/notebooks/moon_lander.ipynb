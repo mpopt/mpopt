{
 "cells": [
  {
   "cell_type": "markdown",
   "metadata": {},
   "source": [
    "# **Moon lander (2D) Example**\n",
    "(c) 2023 Devakumar Thammisetty\n",
    "\n",
    "MPOPT is an open-source Multi-phase Optimal Control Problem (OCP) solver based on pseudo-spectral collocation with customized adaptive grid refinement techniques.\n",
    "\n",
    "Tip: Ctrl + Tab (For the documentation of commands/syntax)"
   ]
  },
  {
   "cell_type": "markdown",
   "metadata": {},
   "source": [
    "Install mpopt from pypi using the following. Disable after first usage"
   ]
  },
  {
   "cell_type": "markdown",
   "metadata": {},
   "source": [
    "Import mpopt (Contains main solver modules)"
   ]
  },
  {
   "cell_type": "code",
   "execution_count": 1,
   "metadata": {},
   "outputs": [],
   "source": [
    "#!pip install mpopt\n",
    "from mpopt import mp"
   ]
  },
  {
   "cell_type": "markdown",
   "metadata": {},
   "source": [
    "## Defining OCP\n",
    "\n",
    "\n",
    "The Fuel optimal solution to the moon-lander OCP is known to have bang-bang thrust profile. The selected OCP has one discontinuity.\n",
    "\n",
    "\n",
    "\n",
    "   \\begin{aligned}\n",
    "   &\\min_{x, u}        & \\qquad & J = 0 + \\int_{t_0}^{t_f}u\\ dt\\\\\n",
    "   &\\text{subject to} &      & \\dot{x_0} = x_1; \\dot{x_1} = u - 1.5\\\\\n",
    "    &                 &     & x_0(t_f) = 0; \\ x_1(t_f) = 0\\\\\n",
    "   &                  &      & x_0(t_0) = 10; \\ x_1(t_0) = -2\\\\\n",
    "   &                  &       & x_0 \\geq 0; 0 \\leq u \\leq 3\\\\\n",
    "&                 &     & t_0 = 0.0; t_f = \\text{free variable}\n",
    "  \\end{aligned}\n",
    "\n",
    "\n",
    "\n",
    "We first create an OCP object and then polulate the object with dynamics, path_constraints, terminal_constraints and objective (running_costs, terminal_costs)"
   ]
  },
  {
   "cell_type": "code",
   "execution_count": 2,
   "metadata": {},
   "outputs": [],
   "source": [
    "ocp = mp.OCP(n_states=2, n_controls=1, n_phases=1)"
   ]
  },
  {
   "cell_type": "code",
   "execution_count": 3,
   "metadata": {},
   "outputs": [],
   "source": [
    "ocp.dynamics[0] = lambda x, u, t: [x[1], u[0] - 1.5]"
   ]
  },
  {
   "cell_type": "code",
   "execution_count": 4,
   "metadata": {},
   "outputs": [],
   "source": [
    "ocp.running_costs[0] = lambda x, u, t: u[0]"
   ]
  },
  {
   "cell_type": "code",
   "execution_count": 5,
   "metadata": {},
   "outputs": [],
   "source": [
    "ocp.terminal_constraints[0] = lambda xf, tf, x0, t0: [xf[0], xf[1]]"
   ]
  },
  {
   "cell_type": "markdown",
   "metadata": {},
   "source": [
    "Initial state"
   ]
  },
  {
   "cell_type": "code",
   "execution_count": 6,
   "metadata": {},
   "outputs": [],
   "source": [
    "ocp.x00[0] = [10.0, -2.0]"
   ]
  },
  {
   "cell_type": "markdown",
   "metadata": {},
   "source": [
    "Box constraints"
   ]
  },
  {
   "cell_type": "code",
   "execution_count": 7,
   "metadata": {},
   "outputs": [],
   "source": [
    "ocp.lbx[0][0] = 0.0\n",
    "ocp.lbu[0], ocp.ubu[0] = 0, 3"
   ]
  },
  {
   "cell_type": "code",
   "execution_count": 8,
   "metadata": {},
   "outputs": [],
   "source": [
    "ocp.validate()"
   ]
  },
  {
   "cell_type": "markdown",
   "metadata": {},
   "source": [
    "### Solve and plot the results in one line\n",
    "\n",
    "Lets solve the OCP using following pseudo-spectral approximation\n",
    "* Collocation using Legendre-Gauss-Radau roots\n",
    "* Let's plot the position and velocity evolution with time starting from 0.\n",
    "\n",
    "The OCP is a free final time formulation, "
   ]
  },
  {
   "cell_type": "code",
   "execution_count": 9,
   "metadata": {},
   "outputs": [
    {
     "name": "stdout",
     "output_type": "stream",
     "text": [
      "\n",
      "******************************************************************************\n",
      "This program contains Ipopt, a library for large-scale nonlinear optimization.\n",
      " Ipopt is released as open source code under the Eclipse Public License (EPL).\n",
      "         For more information visit http://projects.coin-or.org/Ipopt\n",
      "******************************************************************************\n",
      "\n",
      "Total number of variables............................:      182\n",
      "                     variables with only lower bounds:       61\n",
      "                variables with lower and upper bounds:       61\n",
      "                     variables with only upper bounds:        0\n",
      "Total number of equality constraints.................:      124\n",
      "Total number of inequality constraints...............:       60\n",
      "        inequality constraints with only lower bounds:        0\n",
      "   inequality constraints with lower and upper bounds:       60\n",
      "        inequality constraints with only upper bounds:        0\n",
      "\n",
      "\n",
      "Number of Iterations....: 32\n",
      "\n",
      "                                   (scaled)                 (unscaled)\n",
      "Objective...............:   8.2477255075783038e+00    8.2477255075783038e+00\n",
      "Dual infeasibility......:   1.9684090468707893e-10    1.9684090468707893e-10\n",
      "Constraint violation....:   4.0178316229599886e-10    4.0178316229599886e-10\n",
      "Complementarity.........:   4.4108642187588750e-09    4.4108642187588750e-09\n",
      "Overall NLP error.......:   4.4108642187588750e-09    4.4108642187588750e-09\n",
      "\n",
      "\n",
      "Number of objective function evaluations             = 33\n",
      "Number of objective gradient evaluations             = 33\n",
      "Number of equality constraint evaluations            = 33\n",
      "Number of inequality constraint evaluations          = 33\n",
      "Number of equality constraint Jacobian evaluations   = 33\n",
      "Number of inequality constraint Jacobian evaluations = 33\n",
      "Number of Lagrangian Hessian evaluations             = 32\n",
      "Total CPU secs in IPOPT (w/o function evaluations)   =      0.044\n",
      "Total CPU secs in NLP function evaluations           =      0.004\n",
      "\n",
      "EXIT: Optimal Solution Found.\n",
      "      solver  :   t_proc      (avg)   t_wall      (avg)    n_eval\n",
      "       nlp_f  | 138.00us (  4.18us) 140.09us (  4.25us)        33\n",
      "       nlp_g  | 764.00us ( 23.15us) 753.85us ( 22.84us)        33\n",
      "    nlp_grad  |  50.00us ( 50.00us)  48.30us ( 48.30us)         1\n",
      "  nlp_grad_f  | 228.00us (  6.71us) 215.13us (  6.33us)        34\n",
      "  nlp_hess_l  | 261.00us (  8.16us) 258.14us (  8.07us)        32\n",
      "   nlp_jac_g  |   1.10ms ( 32.29us)   1.07ms ( 31.58us)        34\n",
      "       total  |  53.61ms ( 53.61ms)  52.97ms ( 52.97ms)         1\n"
     ]
    },
    {
     "data": {
      "image/png": "[encoded data removed]",
      "text/plain": [
       "<Figure size 432x288 with 2 Axes>"
      ]
     },
     "metadata": {
      "needs_background": "light"
     },
     "output_type": "display_data"
    }
   ],
   "source": [
    "mpo, post = mp.solve(ocp, n_segments=10, poly_orders=6, scheme=\"LGR\", plot=True)"
   ]
  },
  {
   "cell_type": "markdown",
   "metadata": {},
   "source": [
    "Lets retrive the solution to see the terminal time. \n",
    "\n",
    "x: states, u: Controls, t:time, a:Algebraic variables in case OCP has differential algebraic equations (DAEs)"
   ]
  },
  {
   "cell_type": "markdown",
   "metadata": {},
   "source": [
    "Last element of t and x gives the terminal values. Exact terminal time from the analytical solution is 4.1641s."
   ]
  },
  {
   "cell_type": "code",
   "execution_count": 10,
   "metadata": {},
   "outputs": [
    {
     "name": "stdout",
     "output_type": "stream",
     "text": [
      "Terminal time, state : 4.1652 vs 4.1641s (Exact), [9.85970078e-37 0.00000000e+00]\n"
     ]
    }
   ],
   "source": [
    "x, u, t, a = post.get_data()\n",
    "print(f\"Terminal time, state : {t[-1][0]:.4f} vs 4.1641s (Exact), {x[-1]}\")"
   ]
  },
  {
   "cell_type": "markdown",
   "metadata": {},
   "source": [
    "## Solve again with Chebyshev-Gauss-Lobatto (CGL) roots"
   ]
  },
  {
   "cell_type": "code",
   "execution_count": 11,
   "metadata": {},
   "outputs": [
    {
     "name": "stdout",
     "output_type": "stream",
     "text": [
      "Total number of variables............................:      182\n",
      "                     variables with only lower bounds:       61\n",
      "                variables with lower and upper bounds:       61\n",
      "                     variables with only upper bounds:        0\n",
      "Total number of equality constraints.................:      124\n",
      "Total number of inequality constraints...............:       60\n",
      "        inequality constraints with only lower bounds:        0\n",
      "   inequality constraints with lower and upper bounds:       60\n",
      "        inequality constraints with only upper bounds:        0\n",
      "\n",
      "\n",
      "Number of Iterations....: 41\n",
      "\n",
      "                                   (scaled)                 (unscaled)\n",
      "Objective...............:   8.2457172048588543e+00    8.2457172048588543e+00\n",
      "Dual infeasibility......:   1.3972013274602247e-12    1.3972013274602247e-12\n",
      "Constraint violation....:   3.4862335240859466e-11    3.4862335240859466e-11\n",
      "Complementarity.........:   3.9978925923296842e-09    3.9978925923296842e-09\n",
      "Overall NLP error.......:   3.9978925923296842e-09    3.9978925923296842e-09\n",
      "\n",
      "\n",
      "Number of objective function evaluations             = 42\n",
      "Number of objective gradient evaluations             = 42\n",
      "Number of equality constraint evaluations            = 42\n",
      "Number of inequality constraint evaluations          = 42\n",
      "Number of equality constraint Jacobian evaluations   = 42\n",
      "Number of inequality constraint Jacobian evaluations = 42\n",
      "Number of Lagrangian Hessian evaluations             = 41\n",
      "Total CPU secs in IPOPT (w/o function evaluations)   =      0.177\n",
      "Total CPU secs in NLP function evaluations           =      0.011\n",
      "\n",
      "EXIT: Optimal Solution Found.\n",
      "      solver  :   t_proc      (avg)   t_wall      (avg)    n_eval\n",
      "       nlp_f  | 243.00us (  5.79us) 241.08us (  5.74us)        42\n",
      "       nlp_g  |   3.25ms ( 77.36us)   3.22ms ( 76.72us)        42\n",
      "    nlp_grad  | 114.00us (114.00us) 113.59us (113.59us)         1\n",
      "  nlp_grad_f  | 386.00us (  8.98us) 363.32us (  8.45us)        43\n",
      "  nlp_hess_l  | 413.00us ( 10.07us) 410.98us ( 10.02us)        41\n",
      "   nlp_jac_g  |   4.56ms (106.09us)   4.93ms (114.74us)        43\n",
      "       total  | 196.88ms (196.88ms) 206.34ms (206.34ms)         1\n"
     ]
    },
    {
     "data": {
      "image/png": "[encoded data removed]",
      "text/plain": [
       "<Figure size 432x288 with 2 Axes>"
      ]
     },
     "metadata": {
      "needs_background": "light"
     },
     "output_type": "display_data"
    }
   ],
   "source": [
    "mpo, post = mp.solve(ocp, n_segments=2, poly_orders=30, scheme=\"CGL\", plot=True)"
   ]
  },
  {
   "cell_type": "code",
   "execution_count": 12,
   "metadata": {},
   "outputs": [
    {
     "name": "stdout",
     "output_type": "stream",
     "text": [
      "Terminal time, state : 4.1661 vs 4.1641s (Exact), [0. 0.]\n"
     ]
    }
   ],
   "source": [
    "x, u, t, a = post.get_data()\n",
    "print(f\"Terminal time, state : {t[-1][0]:.4f} vs 4.1641s (Exact), {x[-1]}\")"
   ]
  },
  {
   "cell_type": "markdown",
   "metadata": {},
   "source": [
    "## Solve again with Legendre-Gauss-Lobatto (LGL) roots"
   ]
  },
  {
   "cell_type": "code",
   "execution_count": 13,
   "metadata": {},
   "outputs": [
    {
     "name": "stdout",
     "output_type": "stream",
     "text": [
      "Total number of variables............................:      182\n",
      "                     variables with only lower bounds:       61\n",
      "                variables with lower and upper bounds:       61\n",
      "                     variables with only upper bounds:        0\n",
      "Total number of equality constraints.................:      124\n",
      "Total number of inequality constraints...............:       60\n",
      "        inequality constraints with only lower bounds:        0\n",
      "   inequality constraints with lower and upper bounds:       60\n",
      "        inequality constraints with only upper bounds:        0\n",
      "\n",
      "\n",
      "Number of Iterations....: 42\n",
      "\n",
      "                                   (scaled)                 (unscaled)\n",
      "Objective...............:   8.2425586640613506e+00    8.2425586640613506e+00\n",
      "Dual infeasibility......:   6.8055248936271795e-11    6.8055248936271795e-11\n",
      "Constraint violation....:   6.9194650009762881e-12    8.8133944586843427e-12\n",
      "Complementarity.........:   4.7886457777884481e-09    4.7886457777884481e-09\n",
      "Overall NLP error.......:   4.7886457777884481e-09    4.7886457777884481e-09\n",
      "\n",
      "\n",
      "Number of objective function evaluations             = 43\n",
      "Number of objective gradient evaluations             = 43\n",
      "Number of equality constraint evaluations            = 43\n",
      "Number of inequality constraint evaluations          = 43\n",
      "Number of equality constraint Jacobian evaluations   = 43\n",
      "Number of inequality constraint Jacobian evaluations = 43\n",
      "Number of Lagrangian Hessian evaluations             = 42\n",
      "Total CPU secs in IPOPT (w/o function evaluations)   =      0.134\n",
      "Total CPU secs in NLP function evaluations           =      0.009\n",
      "\n",
      "EXIT: Optimal Solution Found.\n",
      "      solver  :   t_proc      (avg)   t_wall      (avg)    n_eval\n",
      "       nlp_f  | 176.00us (  4.09us) 180.25us (  4.19us)        43\n",
      "       nlp_g  |   2.57ms ( 59.72us)   2.58ms ( 59.91us)        43\n",
      "    nlp_grad  | 114.00us (114.00us) 112.73us (112.73us)         1\n",
      "  nlp_grad_f  | 280.00us (  6.36us) 270.47us (  6.15us)        44\n",
      "  nlp_hess_l  | 354.00us (  8.43us) 373.48us (  8.89us)        42\n",
      "   nlp_jac_g  |   3.92ms ( 89.02us)   3.92ms ( 89.20us)        44\n",
      "       total  | 149.38ms (149.38ms) 148.82ms (148.82ms)         1\n"
     ]
    },
    {
     "data": {
      "image/png": "[encoded data removed]",
      "text/plain": [
       "<Figure size 432x288 with 2 Axes>"
      ]
     },
     "metadata": {
      "needs_background": "light"
     },
     "output_type": "display_data"
    }
   ],
   "source": [
    "mpo, post = mp.solve(ocp, n_segments=2, poly_orders=30, scheme=\"LGL\", plot=True)"
   ]
  },
  {
   "cell_type": "code",
   "execution_count": 14,
   "metadata": {},
   "outputs": [
    {
     "name": "stdout",
     "output_type": "stream",
     "text": [
      "Terminal time, state : 4.1662 vs 4.1641s (Exact), [3.68621737e-35 0.00000000e+00]\n"
     ]
    }
   ],
   "source": [
    "x, u, t, a = post.get_data()\n",
    "print(f\"Terminal time, state : {t[-1][0]:.4f} vs 4.1641s (Exact), {x[-1]}\")"
   ]
  }
 ],
 "metadata": {
  "kernelspec": {
   "display_name": "Python 3",
   "language": "python",
   "name": "python3"
  },
  "language_info": {
   "codemirror_mode": {
    "name": "ipython",
    "version": 3
   },
   "file_extension": ".py",
   "mimetype": "text/x-python",
   "name": "python",
   "nbconvert_exporter": "python",
   "pygments_lexer": "ipython3",
   "version": "3.8.5"
  }
 },
 "nbformat": 4,
 "nbformat_minor": 4
}
